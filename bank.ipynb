{
  "nbformat": 4,
  "nbformat_minor": 0,
  "metadata": {
    "colab": {
      "name": "Pilgrim.ipynb",
      "provenance": [],
      "collapsed_sections": [],
      "toc_visible": true,
      "authorship_tag": "ABX9TyMc3kKwQSJ3MOFWOjPBZaa1"
    },
    "kernelspec": {
      "name": "python3",
      "display_name": "Python 3"
    }
  },
  "cells": [
    {
      "cell_type": "markdown",
      "metadata": {
        "id": "SogjWMmBZSEI",
        "colab_type": "text"
      },
      "source": [
        "# Caso studio Pilgrim Bank\n",
        "Gianluigi Lopardo, 277268\n",
        "\n",
        "* 1. [Introduzione](#intro)\n",
        "  * 1.1 [Informazioni sugli attributi](#info)\n",
        "* 2. [Esplorazione dei dati](#esplorazione)\n",
        "* 3. [Oversampling](#oversampling)\n",
        "* 4. [Classificazione](#classificazione)\n",
        "  * 4.1 [Regressione logistica](#logistica)\n",
        "  * 4.2 [K Nearest Neighbours](#knn)\n",
        "  * 4.3 [Support Vector Machine](#svm)\n",
        "  * 4.4 [Alberi di decisione](#tree)\n",
        "  * 4.5 [Random Forest](#forest)\n",
        "* 5. [Conclusioni](#conclusioni)"
      ]
    },
    {
      "cell_type": "markdown",
      "metadata": {
        "id": "m3MyvjxSbPcu",
        "colab_type": "text"
      },
      "source": [
        "# 1. <a class=\"anchor\" id=\"intro\">Introduzione</a>\n",
        "Il dataset contiene dati su alcuni clienti della Pilgrim Bank negli anni 1999 e 2000.\n",
        "\n",
        "Lo scopo di questo lavoro è prevedere quali sono i clienti che stanno per lasciare la banca. Per farlo, verrano utilizzati i principali algoritmi di classificazione per prevedere se un cliente del 1999 lo sarà ancora nel 2000 o meno.\n",
        "\n",
        "Uno studio di questo tipo può essere molto importante: suggerisce ad un'azienda con anticipo quali sono i clienti che probabilmente sta per prendere. Avendo questa informazione, a seconda che il cliente sia sufficientemente profittevole o meno, l'azienda può ad esempio valutare di investire sul cliente offrendogli nuovi prodotto e/o servizi."
      ]
    },
    {
      "cell_type": "markdown",
      "metadata": {
        "id": "nSI08CcadODm",
        "colab_type": "text"
      },
      "source": [
        "## 1.1 <a class=\"anchor\" id=\"info\">Informazioni sugli attributi</a>\n",
        "Prima di esplorare il dataset, e di conseguenza costruire opportuni modelli, vediamo quali sono gli attributi a disposizione.\n",
        "\n",
        "* *ID*: identificativo\n",
        "* *X9Profit, X0Profit*: profitto ricavato dal clienti nel 1999 e nel 2000\n",
        "* *X9Online, X0Online*: indica se l'utente utilizza o meno i servizi online della banca (0, 1)\n",
        "* *X9Age*: età nel 1999\n",
        "* *X9Inc*: fascia reddito \n",
        "* *X9Tenure*: tempo di possesso del cliente\n",
        "* *X9District*: distretto geografico"
      ]
    },
    {
      "cell_type": "markdown",
      "metadata": {
        "id": "e4uKrpvcgO-4",
        "colab_type": "text"
      },
      "source": [
        "# 2. <a class=\"anchor\" id=\"esplorazione\">Esplorazione dei dati</a>\n",
        "\n"
      ]
    },
    {
      "cell_type": "code",
      "metadata": {
        "id": "rqwWXzrAg8aE",
        "colab_type": "code",
        "colab": {
          "base_uri": "https://localhost:8080/",
          "height": 105
        },
        "outputId": "01977d85-e67f-44b8-8338-28876f67452d"
      },
      "source": [
        "#scientific\n",
        "import pandas as pd \n",
        "import numpy as np\n",
        "import math\n",
        "\n",
        "#models\n",
        "from sklearn.model_selection import train_test_split\n",
        "from sklearn.linear_model import LogisticRegression\n",
        "from sklearn.neighbors import KNeighborsClassifier\n",
        "from sklearn import svm\n",
        "from sklearn import tree\n",
        "from sklearn.ensemble import RandomForestClassifier\n",
        "from sklearn.model_selection import GridSearchCV\n",
        "\n",
        "#metrics\n",
        "from sklearn.metrics import plot_confusion_matrix\n",
        "from sklearn.metrics import confusion_matrix\n",
        "\n",
        "#oversampling\n",
        "from imblearn.over_sampling import SMOTE\n",
        "\n",
        "#plot\n",
        "import matplotlib.pyplot as plt\n",
        "\n",
        "SEED = 42"
      ],
      "execution_count": 1,
      "outputs": [
        {
          "output_type": "stream",
          "text": [
            "/usr/local/lib/python3.6/dist-packages/sklearn/externals/six.py:31: FutureWarning: The module is deprecated in version 0.21 and will be removed in version 0.23 since we've dropped support for Python 2.7. Please rely on the official version of six (https://pypi.org/project/six/).\n",
            "  \"(https://pypi.org/project/six/).\", FutureWarning)\n",
            "/usr/local/lib/python3.6/dist-packages/sklearn/utils/deprecation.py:144: FutureWarning: The sklearn.neighbors.base module is  deprecated in version 0.22 and will be removed in version 0.24. The corresponding classes / functions should instead be imported from sklearn.neighbors. Anything that cannot be imported from sklearn.neighbors is now part of the private API.\n",
            "  warnings.warn(message, FutureWarning)\n"
          ],
          "name": "stderr"
        }
      ]
    },
    {
      "cell_type": "code",
      "metadata": {
        "id": "iY8ftoj8vhrs",
        "colab_type": "code",
        "colab": {
          "base_uri": "https://localhost:8080/",
          "height": 204
        },
        "outputId": "09044a13-935c-4837-9b73-e9a096383fa9"
      },
      "source": [
        "url = \"https://raw.githubusercontent.com/gianluigilopardo/bank_prediction/master/Pilgrim.csv\"\n",
        "df = pd.read_csv(url, sep=',')\n",
        "df.head()"
      ],
      "execution_count": 2,
      "outputs": [
        {
          "output_type": "execute_result",
          "data": {
            "text/html": [
              "<div>\n",
              "<style scoped>\n",
              "    .dataframe tbody tr th:only-of-type {\n",
              "        vertical-align: middle;\n",
              "    }\n",
              "\n",
              "    .dataframe tbody tr th {\n",
              "        vertical-align: top;\n",
              "    }\n",
              "\n",
              "    .dataframe thead th {\n",
              "        text-align: right;\n",
              "    }\n",
              "</style>\n",
              "<table border=\"1\" class=\"dataframe\">\n",
              "  <thead>\n",
              "    <tr style=\"text-align: right;\">\n",
              "      <th></th>\n",
              "      <th>ID</th>\n",
              "      <th>9Profit</th>\n",
              "      <th>9Online</th>\n",
              "      <th>9Age</th>\n",
              "      <th>9Inc</th>\n",
              "      <th>9Tenure</th>\n",
              "      <th>9District</th>\n",
              "      <th>0Profit</th>\n",
              "      <th>0Online</th>\n",
              "      <th>9Billpay</th>\n",
              "      <th>0Billpay</th>\n",
              "    </tr>\n",
              "  </thead>\n",
              "  <tbody>\n",
              "    <tr>\n",
              "      <th>0</th>\n",
              "      <td>1</td>\n",
              "      <td>21</td>\n",
              "      <td>0</td>\n",
              "      <td>NaN</td>\n",
              "      <td>NaN</td>\n",
              "      <td>6.33</td>\n",
              "      <td>1200</td>\n",
              "      <td>NaN</td>\n",
              "      <td>NaN</td>\n",
              "      <td>0</td>\n",
              "      <td>NaN</td>\n",
              "    </tr>\n",
              "    <tr>\n",
              "      <th>1</th>\n",
              "      <td>2</td>\n",
              "      <td>-6</td>\n",
              "      <td>0</td>\n",
              "      <td>6.0</td>\n",
              "      <td>3.0</td>\n",
              "      <td>29.50</td>\n",
              "      <td>1200</td>\n",
              "      <td>-32.0</td>\n",
              "      <td>0.0</td>\n",
              "      <td>0</td>\n",
              "      <td>0.0</td>\n",
              "    </tr>\n",
              "    <tr>\n",
              "      <th>2</th>\n",
              "      <td>3</td>\n",
              "      <td>-49</td>\n",
              "      <td>1</td>\n",
              "      <td>5.0</td>\n",
              "      <td>5.0</td>\n",
              "      <td>26.41</td>\n",
              "      <td>1100</td>\n",
              "      <td>-22.0</td>\n",
              "      <td>1.0</td>\n",
              "      <td>0</td>\n",
              "      <td>0.0</td>\n",
              "    </tr>\n",
              "    <tr>\n",
              "      <th>3</th>\n",
              "      <td>4</td>\n",
              "      <td>-4</td>\n",
              "      <td>0</td>\n",
              "      <td>NaN</td>\n",
              "      <td>NaN</td>\n",
              "      <td>2.25</td>\n",
              "      <td>1200</td>\n",
              "      <td>NaN</td>\n",
              "      <td>NaN</td>\n",
              "      <td>0</td>\n",
              "      <td>NaN</td>\n",
              "    </tr>\n",
              "    <tr>\n",
              "      <th>4</th>\n",
              "      <td>5</td>\n",
              "      <td>-61</td>\n",
              "      <td>0</td>\n",
              "      <td>2.0</td>\n",
              "      <td>9.0</td>\n",
              "      <td>9.91</td>\n",
              "      <td>1200</td>\n",
              "      <td>-4.0</td>\n",
              "      <td>0.0</td>\n",
              "      <td>0</td>\n",
              "      <td>0.0</td>\n",
              "    </tr>\n",
              "  </tbody>\n",
              "</table>\n",
              "</div>"
            ],
            "text/plain": [
              "   ID  9Profit  9Online  9Age  ...  0Profit  0Online  9Billpay  0Billpay\n",
              "0   1       21        0   NaN  ...      NaN      NaN         0       NaN\n",
              "1   2       -6        0   6.0  ...    -32.0      0.0         0       0.0\n",
              "2   3      -49        1   5.0  ...    -22.0      1.0         0       0.0\n",
              "3   4       -4        0   NaN  ...      NaN      NaN         0       NaN\n",
              "4   5      -61        0   2.0  ...     -4.0      0.0         0       0.0\n",
              "\n",
              "[5 rows x 11 columns]"
            ]
          },
          "metadata": {
            "tags": []
          },
          "execution_count": 2
        }
      ]
    },
    {
      "cell_type": "markdown",
      "metadata": {
        "id": "kROTqBqAhkaf",
        "colab_type": "text"
      },
      "source": [
        "Dobbiamo fare previsioni sull'anno 2000, avendo a disposizione i dati dell'anno precedente. \n",
        "Procediamo quindi tenendo nel dataset solo le informazioni del 1999 e l'attributo *0Profit*, che rappresenta il nostro target."
      ]
    },
    {
      "cell_type": "code",
      "metadata": {
        "id": "ewOPw1Qsh8gC",
        "colab_type": "code",
        "colab": {}
      },
      "source": [
        "df = df[['9Profit', '9Online', '9Age', '9Inc', '9Tenure', '9District', '0Profit']]"
      ],
      "execution_count": 3,
      "outputs": []
    },
    {
      "cell_type": "code",
      "metadata": {
        "id": "I33OYmNhhVUp",
        "colab_type": "code",
        "colab": {
          "base_uri": "https://localhost:8080/",
          "height": 221
        },
        "outputId": "02b9092b-b965-479a-dc78-b8767f269e5e"
      },
      "source": [
        "print(\"Il dataset contiene %d righe e %d colonne.\" % df.shape)\n",
        "df.head()"
      ],
      "execution_count": 4,
      "outputs": [
        {
          "output_type": "stream",
          "text": [
            "Il dataset contiene 31634 righe e 7 colonne.\n"
          ],
          "name": "stdout"
        },
        {
          "output_type": "execute_result",
          "data": {
            "text/html": [
              "<div>\n",
              "<style scoped>\n",
              "    .dataframe tbody tr th:only-of-type {\n",
              "        vertical-align: middle;\n",
              "    }\n",
              "\n",
              "    .dataframe tbody tr th {\n",
              "        vertical-align: top;\n",
              "    }\n",
              "\n",
              "    .dataframe thead th {\n",
              "        text-align: right;\n",
              "    }\n",
              "</style>\n",
              "<table border=\"1\" class=\"dataframe\">\n",
              "  <thead>\n",
              "    <tr style=\"text-align: right;\">\n",
              "      <th></th>\n",
              "      <th>9Profit</th>\n",
              "      <th>9Online</th>\n",
              "      <th>9Age</th>\n",
              "      <th>9Inc</th>\n",
              "      <th>9Tenure</th>\n",
              "      <th>9District</th>\n",
              "      <th>0Profit</th>\n",
              "    </tr>\n",
              "  </thead>\n",
              "  <tbody>\n",
              "    <tr>\n",
              "      <th>0</th>\n",
              "      <td>21</td>\n",
              "      <td>0</td>\n",
              "      <td>NaN</td>\n",
              "      <td>NaN</td>\n",
              "      <td>6.33</td>\n",
              "      <td>1200</td>\n",
              "      <td>NaN</td>\n",
              "    </tr>\n",
              "    <tr>\n",
              "      <th>1</th>\n",
              "      <td>-6</td>\n",
              "      <td>0</td>\n",
              "      <td>6.0</td>\n",
              "      <td>3.0</td>\n",
              "      <td>29.50</td>\n",
              "      <td>1200</td>\n",
              "      <td>-32.0</td>\n",
              "    </tr>\n",
              "    <tr>\n",
              "      <th>2</th>\n",
              "      <td>-49</td>\n",
              "      <td>1</td>\n",
              "      <td>5.0</td>\n",
              "      <td>5.0</td>\n",
              "      <td>26.41</td>\n",
              "      <td>1100</td>\n",
              "      <td>-22.0</td>\n",
              "    </tr>\n",
              "    <tr>\n",
              "      <th>3</th>\n",
              "      <td>-4</td>\n",
              "      <td>0</td>\n",
              "      <td>NaN</td>\n",
              "      <td>NaN</td>\n",
              "      <td>2.25</td>\n",
              "      <td>1200</td>\n",
              "      <td>NaN</td>\n",
              "    </tr>\n",
              "    <tr>\n",
              "      <th>4</th>\n",
              "      <td>-61</td>\n",
              "      <td>0</td>\n",
              "      <td>2.0</td>\n",
              "      <td>9.0</td>\n",
              "      <td>9.91</td>\n",
              "      <td>1200</td>\n",
              "      <td>-4.0</td>\n",
              "    </tr>\n",
              "  </tbody>\n",
              "</table>\n",
              "</div>"
            ],
            "text/plain": [
              "   9Profit  9Online  9Age  9Inc  9Tenure  9District  0Profit\n",
              "0       21        0   NaN   NaN     6.33       1200      NaN\n",
              "1       -6        0   6.0   3.0    29.50       1200    -32.0\n",
              "2      -49        1   5.0   5.0    26.41       1100    -22.0\n",
              "3       -4        0   NaN   NaN     2.25       1200      NaN\n",
              "4      -61        0   2.0   9.0     9.91       1200     -4.0"
            ]
          },
          "metadata": {
            "tags": []
          },
          "execution_count": 4
        }
      ]
    },
    {
      "cell_type": "markdown",
      "metadata": {
        "id": "_L4mYOUu2Jgn",
        "colab_type": "text"
      },
      "source": [
        "L'attributo *9District* assume valore intero, ma difatto va gestito come cateoorico."
      ]
    },
    {
      "cell_type": "code",
      "metadata": {
        "id": "N4y6Zv0K2WiR",
        "colab_type": "code",
        "colab": {
          "base_uri": "https://localhost:8080/",
          "height": 85
        },
        "outputId": "ea8c19c6-03e5-407c-e512-42e7d040fbc0"
      },
      "source": [
        "df['9District'].value_counts()"
      ],
      "execution_count": 5,
      "outputs": [
        {
          "output_type": "execute_result",
          "data": {
            "text/plain": [
              "1200    24342\n",
              "1300     4150\n",
              "1100     3142\n",
              "Name: 9District, dtype: int64"
            ]
          },
          "metadata": {
            "tags": []
          },
          "execution_count": 5
        }
      ]
    },
    {
      "cell_type": "markdown",
      "metadata": {
        "id": "X9pLuDoJ2vPD",
        "colab_type": "text"
      },
      "source": [
        "Vediamo che assume tre valori diversi. Una soluzione possibile è quella di aggiungere tre variabili dummy che assumono 1 in corrispondenza del distretto giusto, 0 altrimenti."
      ]
    },
    {
      "cell_type": "code",
      "metadata": {
        "id": "G2Ke_WY02dBc",
        "colab_type": "code",
        "colab": {}
      },
      "source": [
        "def d1200(x):\n",
        " if x['9District'] == 1200:\n",
        "  return 1\n",
        " else:\n",
        "  return 0\n",
        "df['d1200'] = df.apply(lambda x: d1200(x), axis=1)\n",
        "  \n",
        "def d1300(x):\n",
        " if x['9District'] == 1300:\n",
        "  return 1\n",
        " else:\n",
        "  return 0 \n",
        "df['d1300'] = df.apply(lambda x: d1300(x), axis=1)\n",
        "\n",
        "def d1100(x):\n",
        " if x['9District'] == 1100:\n",
        "  return 1\n",
        " else:\n",
        "  return 0   \n",
        "df['d1100'] = df.apply(lambda x: d1100(x), axis=1)"
      ],
      "execution_count": 6,
      "outputs": []
    },
    {
      "cell_type": "markdown",
      "metadata": {
        "id": "QNE-0RZc3hMk",
        "colab_type": "text"
      },
      "source": [
        "Occupiamoci ora dei valori mancanti."
      ]
    },
    {
      "cell_type": "code",
      "metadata": {
        "id": "KH25rswejKb8",
        "colab_type": "code",
        "colab": {
          "base_uri": "https://localhost:8080/",
          "height": 204
        },
        "outputId": "23adf3ee-a1ca-4087-d87b-3687e0d6bd6f"
      },
      "source": [
        "print(str(len(df)-df.count()))"
      ],
      "execution_count": 7,
      "outputs": [
        {
          "output_type": "stream",
          "text": [
            "9Profit         0\n",
            "9Online         0\n",
            "9Age         8289\n",
            "9Inc         8261\n",
            "9Tenure         0\n",
            "9District       0\n",
            "0Profit      5238\n",
            "d1200           0\n",
            "d1300           0\n",
            "d1100           0\n",
            "dtype: int64\n"
          ],
          "name": "stdout"
        }
      ]
    },
    {
      "cell_type": "markdown",
      "metadata": {
        "id": "F9NWjcZEkoW-",
        "colab_type": "text"
      },
      "source": [
        "I valori mancanti di *0Profit* rappresentano i clienti che hanno lasciato la banca e sono pertanto di nostro interesse.\n",
        "\n",
        "Creiamo un nuovo attributo *cliente* che assume valore 1 se il record corrisponde ad un cliente ancora attivo nel 2000 (quindi con *0Profit* presente), 0 altrimenti (se *0Profit* manca).\n"
      ]
    },
    {
      "cell_type": "code",
      "metadata": {
        "id": "4hGU21gsz41A",
        "colab_type": "code",
        "colab": {
          "base_uri": "https://localhost:8080/",
          "height": 419
        },
        "outputId": "86ffca52-0549-48c4-d008-969b19c17179"
      },
      "source": [
        "def cliente(x):\n",
        "  if math.isnan(x['0Profit']):\n",
        "    return 0\n",
        "  else:\n",
        "    return 1\n",
        "df['cliente'] = df.apply(lambda x: cliente(x), axis = 1)\n",
        "df = df.drop('0Profit', axis = 1)\n",
        "df"
      ],
      "execution_count": 8,
      "outputs": [
        {
          "output_type": "execute_result",
          "data": {
            "text/html": [
              "<div>\n",
              "<style scoped>\n",
              "    .dataframe tbody tr th:only-of-type {\n",
              "        vertical-align: middle;\n",
              "    }\n",
              "\n",
              "    .dataframe tbody tr th {\n",
              "        vertical-align: top;\n",
              "    }\n",
              "\n",
              "    .dataframe thead th {\n",
              "        text-align: right;\n",
              "    }\n",
              "</style>\n",
              "<table border=\"1\" class=\"dataframe\">\n",
              "  <thead>\n",
              "    <tr style=\"text-align: right;\">\n",
              "      <th></th>\n",
              "      <th>9Profit</th>\n",
              "      <th>9Online</th>\n",
              "      <th>9Age</th>\n",
              "      <th>9Inc</th>\n",
              "      <th>9Tenure</th>\n",
              "      <th>9District</th>\n",
              "      <th>d1200</th>\n",
              "      <th>d1300</th>\n",
              "      <th>d1100</th>\n",
              "      <th>cliente</th>\n",
              "    </tr>\n",
              "  </thead>\n",
              "  <tbody>\n",
              "    <tr>\n",
              "      <th>0</th>\n",
              "      <td>21</td>\n",
              "      <td>0</td>\n",
              "      <td>NaN</td>\n",
              "      <td>NaN</td>\n",
              "      <td>6.33</td>\n",
              "      <td>1200</td>\n",
              "      <td>1</td>\n",
              "      <td>0</td>\n",
              "      <td>0</td>\n",
              "      <td>0</td>\n",
              "    </tr>\n",
              "    <tr>\n",
              "      <th>1</th>\n",
              "      <td>-6</td>\n",
              "      <td>0</td>\n",
              "      <td>6.0</td>\n",
              "      <td>3.0</td>\n",
              "      <td>29.50</td>\n",
              "      <td>1200</td>\n",
              "      <td>1</td>\n",
              "      <td>0</td>\n",
              "      <td>0</td>\n",
              "      <td>1</td>\n",
              "    </tr>\n",
              "    <tr>\n",
              "      <th>2</th>\n",
              "      <td>-49</td>\n",
              "      <td>1</td>\n",
              "      <td>5.0</td>\n",
              "      <td>5.0</td>\n",
              "      <td>26.41</td>\n",
              "      <td>1100</td>\n",
              "      <td>0</td>\n",
              "      <td>0</td>\n",
              "      <td>1</td>\n",
              "      <td>1</td>\n",
              "    </tr>\n",
              "    <tr>\n",
              "      <th>3</th>\n",
              "      <td>-4</td>\n",
              "      <td>0</td>\n",
              "      <td>NaN</td>\n",
              "      <td>NaN</td>\n",
              "      <td>2.25</td>\n",
              "      <td>1200</td>\n",
              "      <td>1</td>\n",
              "      <td>0</td>\n",
              "      <td>0</td>\n",
              "      <td>0</td>\n",
              "    </tr>\n",
              "    <tr>\n",
              "      <th>4</th>\n",
              "      <td>-61</td>\n",
              "      <td>0</td>\n",
              "      <td>2.0</td>\n",
              "      <td>9.0</td>\n",
              "      <td>9.91</td>\n",
              "      <td>1200</td>\n",
              "      <td>1</td>\n",
              "      <td>0</td>\n",
              "      <td>0</td>\n",
              "      <td>1</td>\n",
              "    </tr>\n",
              "    <tr>\n",
              "      <th>...</th>\n",
              "      <td>...</td>\n",
              "      <td>...</td>\n",
              "      <td>...</td>\n",
              "      <td>...</td>\n",
              "      <td>...</td>\n",
              "      <td>...</td>\n",
              "      <td>...</td>\n",
              "      <td>...</td>\n",
              "      <td>...</td>\n",
              "      <td>...</td>\n",
              "    </tr>\n",
              "    <tr>\n",
              "      <th>31629</th>\n",
              "      <td>-50</td>\n",
              "      <td>0</td>\n",
              "      <td>5.0</td>\n",
              "      <td>5.0</td>\n",
              "      <td>3.75</td>\n",
              "      <td>1200</td>\n",
              "      <td>1</td>\n",
              "      <td>0</td>\n",
              "      <td>0</td>\n",
              "      <td>1</td>\n",
              "    </tr>\n",
              "    <tr>\n",
              "      <th>31630</th>\n",
              "      <td>458</td>\n",
              "      <td>0</td>\n",
              "      <td>3.0</td>\n",
              "      <td>8.0</td>\n",
              "      <td>12.08</td>\n",
              "      <td>1300</td>\n",
              "      <td>0</td>\n",
              "      <td>1</td>\n",
              "      <td>0</td>\n",
              "      <td>1</td>\n",
              "    </tr>\n",
              "    <tr>\n",
              "      <th>31631</th>\n",
              "      <td>-83</td>\n",
              "      <td>0</td>\n",
              "      <td>6.0</td>\n",
              "      <td>4.0</td>\n",
              "      <td>15.83</td>\n",
              "      <td>1200</td>\n",
              "      <td>1</td>\n",
              "      <td>0</td>\n",
              "      <td>0</td>\n",
              "      <td>1</td>\n",
              "    </tr>\n",
              "    <tr>\n",
              "      <th>31632</th>\n",
              "      <td>92</td>\n",
              "      <td>1</td>\n",
              "      <td>1.0</td>\n",
              "      <td>6.0</td>\n",
              "      <td>5.41</td>\n",
              "      <td>1200</td>\n",
              "      <td>1</td>\n",
              "      <td>0</td>\n",
              "      <td>0</td>\n",
              "      <td>1</td>\n",
              "    </tr>\n",
              "    <tr>\n",
              "      <th>31633</th>\n",
              "      <td>124</td>\n",
              "      <td>0</td>\n",
              "      <td>3.0</td>\n",
              "      <td>6.0</td>\n",
              "      <td>17.50</td>\n",
              "      <td>1300</td>\n",
              "      <td>0</td>\n",
              "      <td>1</td>\n",
              "      <td>0</td>\n",
              "      <td>1</td>\n",
              "    </tr>\n",
              "  </tbody>\n",
              "</table>\n",
              "<p>31634 rows × 10 columns</p>\n",
              "</div>"
            ],
            "text/plain": [
              "       9Profit  9Online  9Age  9Inc  ...  d1200  d1300  d1100  cliente\n",
              "0           21        0   NaN   NaN  ...      1      0      0        0\n",
              "1           -6        0   6.0   3.0  ...      1      0      0        1\n",
              "2          -49        1   5.0   5.0  ...      0      0      1        1\n",
              "3           -4        0   NaN   NaN  ...      1      0      0        0\n",
              "4          -61        0   2.0   9.0  ...      1      0      0        1\n",
              "...        ...      ...   ...   ...  ...    ...    ...    ...      ...\n",
              "31629      -50        0   5.0   5.0  ...      1      0      0        1\n",
              "31630      458        0   3.0   8.0  ...      0      1      0        1\n",
              "31631      -83        0   6.0   4.0  ...      1      0      0        1\n",
              "31632       92        1   1.0   6.0  ...      1      0      0        1\n",
              "31633      124        0   3.0   6.0  ...      0      1      0        1\n",
              "\n",
              "[31634 rows x 10 columns]"
            ]
          },
          "metadata": {
            "tags": []
          },
          "execution_count": 8
        }
      ]
    },
    {
      "cell_type": "markdown",
      "metadata": {
        "id": "UuvDZPI90EL5",
        "colab_type": "text"
      },
      "source": [
        "*9Age* e *9Inc* presentano molti valori mancanti. Verosimilmente, l'età e il reddito sono informazioni facoltative, che alcuni clienti hanno deciso di non dare alla banca."
      ]
    },
    {
      "cell_type": "code",
      "metadata": {
        "id": "-9PKgU2ZknPj",
        "colab_type": "code",
        "colab": {
          "base_uri": "https://localhost:8080/",
          "height": 34
        },
        "outputId": "07f6b36b-a5c5-44fd-933e-de873d76f621"
      },
      "source": [
        "na = len(df) - len(df.dropna())\n",
        "n = len(df)\n",
        "print(str(na) + ' record su ' + str(n) + ' hanno almeno un valore mancante, quindi circa il ' + \n",
        "      str(round(100*na/n, 2)) + '% del totale.')"
      ],
      "execution_count": 9,
      "outputs": [
        {
          "output_type": "stream",
          "text": [
            "8822 record su 31634 hanno almeno un valore mancante, quindi circa il 27.89% del totale.\n"
          ],
          "name": "stdout"
        }
      ]
    },
    {
      "cell_type": "markdown",
      "metadata": {
        "id": "ajxJMW7PwrG6",
        "colab_type": "text"
      },
      "source": [
        "Rimuovere una parte così grande del dataset potrebbe far perdere troppe informazioni. Tuttavia l'alternativa è quella di sostituire i valori mancanti col valore medio dell'attributo corrispondente, che potrebbe distorcere i risultati. \n",
        "\n",
        "Proseguiamo lavorando con entrambe queste opzioni e infine, confrontando le prestazioni dei modelli potremo valutare quale sia la scelta migliore.\n",
        "\n",
        "Nel secondo caso, per tener comunque conto del fatto che gli attributi fossero mancanti, aggiungiamo due variabili dummy *AgeExists* e *IncomeExists*, che poniamo uguali a 1 quando il relativo attributo era presente e 0 quando è stato sostituito col valore medio."
      ]
    },
    {
      "cell_type": "code",
      "metadata": {
        "id": "tNPyFc_tx_D-",
        "colab_type": "code",
        "colab": {}
      },
      "source": [
        "df_drop = df.dropna().copy()\n",
        "\n",
        "df['AgeExist'] = df['9Age'].isna().apply(lambda x: 1 if x==0 else 0)\n",
        "df['IncomeExists'] = df['9Inc'].isna().apply(lambda x: 1 if x==0 else 0)\n",
        "df['9Age'].fillna(df['9Age'].mean(), inplace = True)\n",
        "df['9Inc'].fillna(df['9Inc'].mean(), inplace = True)"
      ],
      "execution_count": 10,
      "outputs": []
    },
    {
      "cell_type": "markdown",
      "metadata": {
        "id": "MAbtS4-X8fEI",
        "colab_type": "text"
      },
      "source": [
        "Diviamo quindi i due dataset in *training set* e *test set*, con rispettivamente il 70% e il 30% dei dati."
      ]
    },
    {
      "cell_type": "code",
      "metadata": {
        "id": "_UKxuy4OhvCi",
        "colab_type": "code",
        "colab": {}
      },
      "source": [
        "X_mean = df.drop('cliente', axis = 1)\n",
        "y_mean = df['cliente']\n",
        "X_train_mean, X_test_mean, y_train_mean, y_test_mean = train_test_split(X_mean, y_mean, test_size = 0.3, random_state = SEED)\n",
        "\n",
        "X_drop = df_drop.drop('cliente', axis = 1)\n",
        "y_drop = df_drop['cliente']\n",
        "X_train_drop, X_test_drop, y_train_drop, y_test_drop = train_test_split(X_drop, y_drop, test_size = 0.3, random_state = SEED)"
      ],
      "execution_count": 11,
      "outputs": []
    },
    {
      "cell_type": "markdown",
      "metadata": {
        "id": "6vEEche-dZ0H",
        "colab_type": "text"
      },
      "source": [
        "Vediamo per entrambi i dataset quanti sono i clienti persi nel 2000."
      ]
    },
    {
      "cell_type": "code",
      "metadata": {
        "id": "VnvvwAc4abxS",
        "colab_type": "code",
        "colab": {
          "base_uri": "https://localhost:8080/",
          "height": 281
        },
        "outputId": "8fad5d19-8da5-4862-c39b-9d310af3204b"
      },
      "source": [
        "# drop\n",
        "uno = len(y_drop[y_drop == 1])\n",
        "zero = len(y_drop[y_drop == 0])\n",
        "x = np.array(['1', '0'])\n",
        "y = np.array([uno, zero])\n",
        "plt.bar(x, y)\n",
        "plt.title('Conteggio per il dataset drop')\n",
        "plt.show()"
      ],
      "execution_count": 12,
      "outputs": [
        {
          "output_type": "display_data",
          "data": {
            "image/png": "[encoded data removed]",
            "text/plain": [
              "<Figure size 432x288 with 1 Axes>"
            ]
          },
          "metadata": {
            "tags": [],
            "needs_background": "light"
          }
        }
      ]
    },
    {
      "cell_type": "code",
      "metadata": {
        "id": "2yymkItEeDde",
        "colab_type": "code",
        "colab": {
          "base_uri": "https://localhost:8080/",
          "height": 281
        },
        "outputId": "d3844d43-a8c0-4629-818b-dd3390a47e17"
      },
      "source": [
        "# mean\n",
        "uno = len(y_mean[y_mean == 1])\n",
        "zero = len(y_mean[y_mean == 0])\n",
        "x = np.array(['1', '0'])\n",
        "y = np.array([uno, zero])\n",
        "plt.bar(x, y)\n",
        "plt.title('Conteggio per il dataset mean')\n",
        "plt.show()"
      ],
      "execution_count": 13,
      "outputs": [
        {
          "output_type": "display_data",
          "data": {
            "image/png": "[encoded data removed]",
            "text/plain": [
              "<Figure size 432x288 with 1 Axes>"
            ]
          },
          "metadata": {
            "tags": [],
            "needs_background": "light"
          }
        }
      ]
    },
    {
      "cell_type": "markdown",
      "metadata": {
        "id": "5REwV9gpebr5",
        "colab_type": "text"
      },
      "source": [
        "In entrambi i casi il dataset è fortemente sbilanciato: il numero di record delle classi è troppo diverso. \n",
        "Questo era atteso, il numero di clienti che abbandona è piccolo rispetto al totale.\n",
        "\n",
        "Lo sbilanciamento può portare a forti distorsioni nella classificazione, è necessario gestire questo problema."
      ]
    },
    {
      "cell_type": "markdown",
      "metadata": {
        "id": "c3JGaGSZfGhC",
        "colab_type": "text"
      },
      "source": [
        "# 3. <a class=\"anchor\" id=\"oversampling\">Oversampling</a>\n",
        "\n",
        "L'idea è quella di generare nuovi record \"fittizzi\" da aggiungere alla classe minoritaria, in modo da riequilibrare il dataset.\n",
        "\n",
        "La tecnica più comune per farlo è **SMOTE** (Synthetic Minority Oversampling Technique): preso un record dal datast, si considerano i suoi $k$ record più vicini. Per creare un punto, si prende il vettore tra uno di quei $k$ vicini e il record e si seleziona una posizione su questo vettore prendendo un numero casuale $x$ tra $0$ e $1$. "
      ]
    },
    {
      "cell_type": "code",
      "metadata": {
        "id": "8KVwHJlthT-4",
        "colab_type": "code",
        "colab": {
          "base_uri": "https://localhost:8080/",
          "height": 105
        },
        "outputId": "5f3a5709-70cd-4555-c99f-c804afc427c8"
      },
      "source": [
        "X_SMOTE_mean, y_SMOTE_mean = SMOTE(random_state = SEED).fit_resample(X_train_mean, y_train_mean)\n",
        "X_SMOTE_drop, y_SMOTE_drop = SMOTE(random_state = SEED).fit_resample(X_train_drop, y_train_drop)"
      ],
      "execution_count": 14,
      "outputs": [
        {
          "output_type": "stream",
          "text": [
            "/usr/local/lib/python3.6/dist-packages/sklearn/utils/deprecation.py:87: FutureWarning: Function safe_indexing is deprecated; safe_indexing is deprecated in version 0.22 and will be removed in version 0.24.\n",
            "  warnings.warn(msg, category=FutureWarning)\n",
            "/usr/local/lib/python3.6/dist-packages/sklearn/utils/deprecation.py:87: FutureWarning: Function safe_indexing is deprecated; safe_indexing is deprecated in version 0.22 and will be removed in version 0.24.\n",
            "  warnings.warn(msg, category=FutureWarning)\n"
          ],
          "name": "stderr"
        }
      ]
    },
    {
      "cell_type": "code",
      "metadata": {
        "id": "RGBzVlExhdhs",
        "colab_type": "code",
        "colab": {
          "base_uri": "https://localhost:8080/",
          "height": 119
        },
        "outputId": "5ba40d94-76c3-476a-f9f0-a8d1266a1301"
      },
      "source": [
        "print('-MEAN: \\n' +\n",
        "      'Nel dataset SMOTE la classe 0 ha ' + str(len(y_SMOTE_mean[y_SMOTE_mean == 0])) + \n",
        "      ' record. La classe 1 ne ha ' + str(len(y_SMOTE_mean[y_SMOTE_mean == 1])) + '.\\n' +\n",
        "      'Nel training set di partenza la classe 0 ha ' + str(len(y_train_mean[y_train_mean == 0])) + \n",
        "      ' record. La classe 1 ne ha ' + str(len(y_train_mean[y_train_mean == 1])) + '.\\n' +\n",
        "      '-DROP: \\n' + \n",
        "      'Nel dataset SMOTE la classe 0 ha ' + str(len(y_SMOTE_drop[y_SMOTE_drop == 0])) + \n",
        "      ' record. La classe 1 ne ha ' + str(len(y_SMOTE_drop[y_SMOTE_drop == 1])) + '.\\n' +\n",
        "      'Nel training set di partenza la classe 0 ha ' + str(len(y_train_drop[y_train_drop == 0])) + \n",
        "      ' record. La classe 1 ne ha ' + str(len(y_train_drop[y_train_drop == 1])) + '.')"
      ],
      "execution_count": 15,
      "outputs": [
        {
          "output_type": "stream",
          "text": [
            "-MEAN: \n",
            "Nel dataset SMOTE la classe 0 ha 18531 record. La classe 1 ne ha 18531.\n",
            "Nel training set di partenza la classe 0 ha 3612 record. La classe 1 ne ha 18531.\n",
            "-DROP: \n",
            "Nel dataset SMOTE la classe 0 ha 14750 record. La classe 1 ne ha 14750.\n",
            "Nel training set di partenza la classe 0 ha 1218 record. La classe 1 ne ha 14750.\n"
          ],
          "name": "stdout"
        }
      ]
    },
    {
      "cell_type": "markdown",
      "metadata": {
        "id": "F24DH72b3x-e",
        "colab_type": "text"
      },
      "source": [
        "# 4. <a class=\"anchor\" id=\"classificazione\">Classificazione</a>\n",
        "La classificazione è il problema di identificare a quale di una serie di categorie (sottopopolazioni) appartiene una nuova osservazione, sulla base di una serie di dati formativi contenenti osservazioni (o istanze) la cui appartenenza alla categoria è nota.\n",
        "\n",
        "Qui applico gli algoritmi di classificazione più comuni e confronterò le loro prestazioni usando diverse metriche:\n",
        "\n",
        "Siano: $TP$ = True positives, $TN$ = True negative, $FP$ = False positive, $FN$ = False negative.\n",
        "\n",
        "Accuracy = $\\frac{TP + TN}{TP+TN + FP + FN} = \\frac{\\text{Numero di previsioni corrette}}{\\text{Numero totale di previsioni}}$\n",
        "\n",
        "Precision = $\\frac{\\text{TP}}{\\text{TP + FP}}$\n",
        "\n",
        "Sensitivity = $\\frac{\\text{TP}}{\\text{TP + FN}}$\n",
        "\n",
        "Specificity = $\\frac{\\text{TN}}{\\text{TN + FP}}$\n",
        "\n",
        "F1 Score = $2 \\cdot \\frac{\\text{Precision}\\cdot \\text{Specificity}}{\\text{Precision + Specificity}} $\n",
        "\n",
        "Capire i limiti e le peculiarità delle diverse metriche è cruciale per identificare un buon modello: a seconda dell'applicazione potremmo, ad esempio, voler minimizzare il numero di falsi positivi o di falsi negativi.\n",
        "\n",
        "Inoltre, è opportuno utilizzare anche la confusion matrix come misura delle prestazioni.\n",
        "\n"
      ]
    },
    {
      "cell_type": "code",
      "metadata": {
        "id": "FcD3LBcnARjY",
        "colab_type": "code",
        "colab": {}
      },
      "source": [
        "def get_metrics(dataset, true, predict):\n",
        "  tp = confusion_matrix(true, predict)[1,1]\n",
        "  tn = confusion_matrix(true, predict)[0,0]\n",
        "  fp = confusion_matrix(true, predict)[0,1]\n",
        "  fn = confusion_matrix(true, predict)[1,0]\n",
        "  accuracy = round((tp+tn)/(tp+tn+fp+fn), 4)\n",
        "  precision = round(tp/(tp+fp), 4)\n",
        "  sensitivity = round(tp/(tp+fn), 4)\n",
        "  specificity = round(tn/(tn+fp), 4)\n",
        "  f1_score = round(2*precision*specificity/(precision+specificity), 4)\n",
        "  return [dataset[0], dataset[1], accuracy, precision, sensitivity, specificity, f1_score]"
      ],
      "execution_count": 16,
      "outputs": []
    },
    {
      "cell_type": "code",
      "metadata": {
        "id": "ehzzK6q-8cZy",
        "colab_type": "code",
        "colab": {}
      },
      "source": [
        "metrics = pd.DataFrame(columns = ['Dataset', 'SMOTE', 'Accuracy', 'Precision', 'Sensitivity', 'Specificity', 'F1 Score'])"
      ],
      "execution_count": 17,
      "outputs": []
    },
    {
      "cell_type": "markdown",
      "metadata": {
        "id": "vlgJbKrpVFU7",
        "colab_type": "text"
      },
      "source": [
        "Per gli algoritmi che richiedono la scelta di uno o più iperparametri, viene usata la *Grid-Search Cross-Validation* per trovarne i valori ottimali."
      ]
    },
    {
      "cell_type": "markdown",
      "metadata": {
        "id": "taLJxtji43Cb",
        "colab_type": "text"
      },
      "source": [
        "## 4.1 <a class=\"anchor\" id=\"logistica\">Regressione logistica</a>\n",
        "La regressione logistica è un modello statistico utilizzato per modellare la probabilità di una determinata classe.\n",
        "\n",
        "Nel caso di classi sono binarie, possiamo calcolare la probabilità che un certo record appartenga alla categoria $Y = 1$ come:\n",
        "\n",
        "$p(x) = \\mathbb{P}(Y=1\\vert X)$ It has distribution:$$p(x) = \\frac{e^{\\beta_0 + \\beta_1x}}{1+e^{\\beta_0 + \\beta_1x}}$$\n"
      ]
    },
    {
      "cell_type": "code",
      "metadata": {
        "id": "zD3qRBIxNyOU",
        "colab_type": "code",
        "colab": {}
      },
      "source": [
        "L_metrics = pd.DataFrame(columns = ['Dataset', 'SMOTE', 'Accuracy', 'Precision', 'Sensitivity', 'Specificity', 'F1 Score'])"
      ],
      "execution_count": 18,
      "outputs": []
    },
    {
      "cell_type": "code",
      "metadata": {
        "id": "LZ3J-Oh85S4N",
        "colab_type": "code",
        "colab": {
          "base_uri": "https://localhost:8080/",
          "height": 153
        },
        "outputId": "fd837ef5-0cf2-40e8-e4a0-2b4536dbd0f0"
      },
      "source": [
        "# dataset mean\n",
        "logistic_mean = LogisticRegression(max_iter = 10000, random_state = SEED, solver = 'lbfgs')\n",
        "logistic_mean.fit(X_train_mean, y_train_mean)\n",
        "logistic_predict = logistic_mean.predict(X_test_mean)\n",
        "metrics.loc[\"L1\"] = get_metrics(['Mean', 'no'], y_test_mean, logistic_predict)\n",
        "L_metrics.loc[\"L1\"] = metrics.loc[\"L1\"]\n",
        "metrics.loc[\"L1\"]"
      ],
      "execution_count": 19,
      "outputs": [
        {
          "output_type": "execute_result",
          "data": {
            "text/plain": [
              "Dataset          Mean\n",
              "SMOTE              no\n",
              "Accuracy       0.8307\n",
              "Precision      0.8344\n",
              "Sensitivity    0.9928\n",
              "Specificity    0.0467\n",
              "F1 Score       0.0884\n",
              "Name: L1, dtype: object"
            ]
          },
          "metadata": {
            "tags": []
          },
          "execution_count": 19
        }
      ]
    },
    {
      "cell_type": "code",
      "metadata": {
        "id": "F8fJOGfQ6oiM",
        "colab_type": "code",
        "colab": {
          "base_uri": "https://localhost:8080/",
          "height": 153
        },
        "outputId": "5b193c83-cd5c-47c0-cd78-45fbaacb67b2"
      },
      "source": [
        "# dataset drop\n",
        "logistic_drop = LogisticRegression(max_iter = 10000, random_state = SEED, solver = 'lbfgs')\n",
        "logistic_drop.fit(X_train_drop, y_train_drop)\n",
        "logistic_predict = logistic_drop.predict(X_test_drop)\n",
        "metrics.loc[\"L2\"] = get_metrics(['Drop', 'no'], y_test_drop, logistic_predict)\n",
        "L_metrics.loc[\"L2\"] = metrics.loc[\"L2\"]\n",
        "metrics.loc[\"L2\"]"
      ],
      "execution_count": 20,
      "outputs": [
        {
          "output_type": "execute_result",
          "data": {
            "text/plain": [
              "Dataset          Drop\n",
              "SMOTE              no\n",
              "Accuracy       0.9253\n",
              "Precision      0.9253\n",
              "Sensitivity         1\n",
              "Specificity         0\n",
              "F1 Score            0\n",
              "Name: L2, dtype: object"
            ]
          },
          "metadata": {
            "tags": []
          },
          "execution_count": 20
        }
      ]
    },
    {
      "cell_type": "code",
      "metadata": {
        "id": "pWNPEURWj7Vc",
        "colab_type": "code",
        "colab": {
          "base_uri": "https://localhost:8080/",
          "height": 153
        },
        "outputId": "450d2129-c0f1-4285-88e7-0225803f7ee4"
      },
      "source": [
        "# dataset mean SMOTE\n",
        "logistic_mean_smote = LogisticRegression(max_iter = 10000, random_state = SEED, solver = 'lbfgs')\n",
        "logistic_mean_smote.fit(X_SMOTE_mean, y_SMOTE_mean)\n",
        "logistic_predict = logistic_mean_smote.predict(X_test_mean)\n",
        "metrics.loc[\"L3\"] = get_metrics(['Mean', 'yes'], y_test_mean, logistic_predict)\n",
        "L_metrics.loc[\"L3\"] = metrics.loc[\"L3\"]\n",
        "metrics.loc[\"L3\"]"
      ],
      "execution_count": 21,
      "outputs": [
        {
          "output_type": "execute_result",
          "data": {
            "text/plain": [
              "Dataset          Mean\n",
              "SMOTE             yes\n",
              "Accuracy       0.7852\n",
              "Precision      0.9222\n",
              "Sensitivity     0.809\n",
              "Specificity    0.6697\n",
              "F1 Score       0.7759\n",
              "Name: L3, dtype: object"
            ]
          },
          "metadata": {
            "tags": []
          },
          "execution_count": 21
        }
      ]
    },
    {
      "cell_type": "code",
      "metadata": {
        "id": "f3iYyy1Il4jV",
        "colab_type": "code",
        "colab": {
          "base_uri": "https://localhost:8080/",
          "height": 153
        },
        "outputId": "ef2fcc62-6359-49e4-f84e-93fbfb7d394e"
      },
      "source": [
        "# dataset drop SMOTE\n",
        "logistic_drop_smote = LogisticRegression(max_iter = 10000, random_state = SEED, solver = 'lbfgs')\n",
        "logistic_drop_smote.fit(X_SMOTE_drop, y_SMOTE_drop)\n",
        "logistic_predict = logistic_drop_smote.predict(X_test_drop)\n",
        "metrics.loc[\"L4\"] = get_metrics(['Drop', 'yes'], y_test_drop, logistic_predict)\n",
        "L_metrics.loc[\"L4\"] = metrics.loc[\"L4\"]\n",
        "metrics.loc[\"L4\"]"
      ],
      "execution_count": 22,
      "outputs": [
        {
          "output_type": "execute_result",
          "data": {
            "text/plain": [
              "Dataset          Drop\n",
              "SMOTE             yes\n",
              "Accuracy       0.5431\n",
              "Precision      0.9473\n",
              "Sensitivity    0.5361\n",
              "Specificity    0.6301\n",
              "F1 Score       0.7568\n",
              "Name: L4, dtype: object"
            ]
          },
          "metadata": {
            "tags": []
          },
          "execution_count": 22
        }
      ]
    },
    {
      "cell_type": "code",
      "metadata": {
        "id": "t0S0WwTnmCqC",
        "colab_type": "code",
        "colab": {
          "base_uri": "https://localhost:8080/",
          "height": 173
        },
        "outputId": "f591f02c-b536-4883-f1ee-01e3039acafc"
      },
      "source": [
        "L_metrics.sort_values('F1 Score')"
      ],
      "execution_count": 23,
      "outputs": [
        {
          "output_type": "execute_result",
          "data": {
            "text/html": [
              "<div>\n",
              "<style scoped>\n",
              "    .dataframe tbody tr th:only-of-type {\n",
              "        vertical-align: middle;\n",
              "    }\n",
              "\n",
              "    .dataframe tbody tr th {\n",
              "        vertical-align: top;\n",
              "    }\n",
              "\n",
              "    .dataframe thead th {\n",
              "        text-align: right;\n",
              "    }\n",
              "</style>\n",
              "<table border=\"1\" class=\"dataframe\">\n",
              "  <thead>\n",
              "    <tr style=\"text-align: right;\">\n",
              "      <th></th>\n",
              "      <th>Dataset</th>\n",
              "      <th>SMOTE</th>\n",
              "      <th>Accuracy</th>\n",
              "      <th>Precision</th>\n",
              "      <th>Sensitivity</th>\n",
              "      <th>Specificity</th>\n",
              "      <th>F1 Score</th>\n",
              "    </tr>\n",
              "  </thead>\n",
              "  <tbody>\n",
              "    <tr>\n",
              "      <th>L2</th>\n",
              "      <td>Drop</td>\n",
              "      <td>no</td>\n",
              "      <td>0.9253</td>\n",
              "      <td>0.9253</td>\n",
              "      <td>1.0000</td>\n",
              "      <td>0.0000</td>\n",
              "      <td>0.0000</td>\n",
              "    </tr>\n",
              "    <tr>\n",
              "      <th>L1</th>\n",
              "      <td>Mean</td>\n",
              "      <td>no</td>\n",
              "      <td>0.8307</td>\n",
              "      <td>0.8344</td>\n",
              "      <td>0.9928</td>\n",
              "      <td>0.0467</td>\n",
              "      <td>0.0884</td>\n",
              "    </tr>\n",
              "    <tr>\n",
              "      <th>L4</th>\n",
              "      <td>Drop</td>\n",
              "      <td>yes</td>\n",
              "      <td>0.5431</td>\n",
              "      <td>0.9473</td>\n",
              "      <td>0.5361</td>\n",
              "      <td>0.6301</td>\n",
              "      <td>0.7568</td>\n",
              "    </tr>\n",
              "    <tr>\n",
              "      <th>L3</th>\n",
              "      <td>Mean</td>\n",
              "      <td>yes</td>\n",
              "      <td>0.7852</td>\n",
              "      <td>0.9222</td>\n",
              "      <td>0.8090</td>\n",
              "      <td>0.6697</td>\n",
              "      <td>0.7759</td>\n",
              "    </tr>\n",
              "  </tbody>\n",
              "</table>\n",
              "</div>"
            ],
            "text/plain": [
              "   Dataset SMOTE  Accuracy  Precision  Sensitivity  Specificity  F1 Score\n",
              "L2    Drop    no    0.9253     0.9253       1.0000       0.0000    0.0000\n",
              "L1    Mean    no    0.8307     0.8344       0.9928       0.0467    0.0884\n",
              "L4    Drop   yes    0.5431     0.9473       0.5361       0.6301    0.7568\n",
              "L3    Mean   yes    0.7852     0.9222       0.8090       0.6697    0.7759"
            ]
          },
          "metadata": {
            "tags": []
          },
          "execution_count": 23
        }
      ]
    },
    {
      "cell_type": "code",
      "metadata": {
        "id": "KCrwSMEem4iR",
        "colab_type": "code",
        "colab": {
          "base_uri": "https://localhost:8080/",
          "height": 604
        },
        "outputId": "b54664b2-70cd-4bba-d611-d936e3f1425f"
      },
      "source": [
        "fig, ((mean, drop), (smote_mean, smote_drop)) = plt.subplots(nrows = 2, ncols = 2, figsize = (10, 10))\n",
        "\n",
        "plot_confusion_matrix(logistic_mean, X_test_mean, y_test_mean,\n",
        "                      cmap = plt.cm.Blues, values_format = '0.2%', normalize = 'true', \n",
        "                      ax = mean)\n",
        "plot_confusion_matrix(logistic_drop, X_test_drop, y_test_drop,\n",
        "                      cmap = plt.cm.Blues, values_format = '0.2%', normalize = 'true',\n",
        "                      ax = drop)\n",
        "plot_confusion_matrix(logistic_mean_smote, X_test_mean, y_test_mean,\n",
        "                      cmap = plt.cm.Blues, values_format = '0.2%', normalize = 'true',\n",
        "                      ax = smote_mean)\n",
        "plot_confusion_matrix(logistic_drop_smote, X_test_drop, y_test_drop,\n",
        "                      cmap = plt.cm.Blues, values_format = '0.2%', normalize = 'true',\n",
        "                      ax = smote_drop)\n",
        "mean.set_title('L1: Mean dataset')\n",
        "drop.set_title('L2: Drop dataset')\n",
        "smote_mean.set_title('L3: SMOTE Mean')\n",
        "smote_drop.set_title('L4: SMOTE Drop')"
      ],
      "execution_count": 24,
      "outputs": [
        {
          "output_type": "execute_result",
          "data": {
            "text/plain": [
              "Text(0.5, 1.0, 'L4: SMOTE Drop')"
            ]
          },
          "metadata": {
            "tags": []
          },
          "execution_count": 24
        },
        {
          "output_type": "display_data",
          "data": {
            "image/png": "[encoded data removed]",
            "text/plain": [
              "<Figure size 720x720 with 8 Axes>"
            ]
          },
          "metadata": {
            "tags": [],
            "needs_background": "light"
          }
        }
      ]
    },
    {
      "cell_type": "markdown",
      "metadata": {
        "id": "UuCeTrMX9y-R",
        "colab_type": "text"
      },
      "source": [
        "## 4.2 <a class=\"anchor\" id=\"knn\">K Nearest Neighbours</a>\n",
        "K Nearest Neighbours (KNN) è un algoritmo utilizzato nel riconoscimento di pattern per classificare oggetti in base alle caratteristiche degli oggetti vicini a quello considerato. Un punto è classificato in base alla similarità dei $K$ punti più vicini ad esso. La scelta del parametro $K$ dipende dalle caratteristiche dei dati. Generalmente, all'aumentare di $K$, il rumore che compromette la classificazione si riduce, ma il criterio di scelta per la classe diventa più approssimativo. La scelta può essere fatta attraverso tecniche euristiche. Il modo migliore per creare un modello accurato è utilizzare la *cross-validation* per selezionare il valore ottimale di $K$."
      ]
    },
    {
      "cell_type": "code",
      "metadata": {
        "id": "4SKb9LTAOPbv",
        "colab_type": "code",
        "colab": {}
      },
      "source": [
        "K_metrics = pd.DataFrame(columns = ['Dataset', 'SMOTE', 'Accuracy', 'Precision', 'Sensitivity', 'Specificity', 'F1 Score'])"
      ],
      "execution_count": 25,
      "outputs": []
    },
    {
      "cell_type": "code",
      "metadata": {
        "id": "LQszWxqz-db9",
        "colab_type": "code",
        "colab": {
          "base_uri": "https://localhost:8080/",
          "height": 170
        },
        "outputId": "7bd4dd5e-e0cf-4d8c-fed2-b87d80658e4d"
      },
      "source": [
        "# dataset mean\n",
        "neigh = np.arange(4, 20)\n",
        "parameters = {'n_neighbors': neigh}\n",
        "knn_mean = GridSearchCV(KNeighborsClassifier(), parameters, scoring = 'f1')\n",
        "knn_mean = knn_mean.fit(X_train_mean, y_train_mean)\n",
        "knn_predict = knn_mean.predict(X_test_mean)\n",
        "metrics.loc[\"K1\"] = get_metrics(['Mean', 'no'], y_test_mean, knn_predict)\n",
        "K_metrics.loc[\"K1\"] = metrics.loc[\"K1\"]\n",
        "print(\"Il parametro ottimale è K = %s con score %0.2f\" % (knn_mean.best_params_, knn_mean.best_score_))\n",
        "metrics.loc[\"K1\"]"
      ],
      "execution_count": 26,
      "outputs": [
        {
          "output_type": "stream",
          "text": [
            "Il parametro ottimale è K = {'n_neighbors': 19} con score 0.91\n"
          ],
          "name": "stdout"
        },
        {
          "output_type": "execute_result",
          "data": {
            "text/plain": [
              "Dataset          Mean\n",
              "SMOTE              no\n",
              "Accuracy       0.8312\n",
              "Precision      0.8449\n",
              "Sensitivity    0.9753\n",
              "Specificity    0.1341\n",
              "F1 Score       0.2315\n",
              "Name: K1, dtype: object"
            ]
          },
          "metadata": {
            "tags": []
          },
          "execution_count": 26
        }
      ]
    },
    {
      "cell_type": "code",
      "metadata": {
        "id": "LWPzzGpS_ENI",
        "colab_type": "code",
        "colab": {
          "base_uri": "https://localhost:8080/",
          "height": 170
        },
        "outputId": "ce061367-f15a-48a9-d840-c30b7f70cbfb"
      },
      "source": [
        "# dataset drop\n",
        "neigh = np.arange(4, 20)\n",
        "parameters = {'n_neighbors': neigh}\n",
        "knn_drop = GridSearchCV(KNeighborsClassifier(), parameters, scoring = 'f1')\n",
        "knn_drop = knn_drop.fit(X_train_drop, y_train_drop)\n",
        "knn_predict = knn_drop.predict(X_test_drop)\n",
        "metrics.loc[\"K2\"] = get_metrics(['Drop', 'no'], y_test_drop, knn_predict)\n",
        "K_metrics.loc[\"K2\"] = metrics.loc[\"K2\"]\n",
        "print(\"Il parametro ottimale è K = %s con score %0.2f\" % (knn_drop.best_params_, knn_drop.best_score_))\n",
        "metrics.loc[\"K2\"]"
      ],
      "execution_count": 27,
      "outputs": [
        {
          "output_type": "stream",
          "text": [
            "Il parametro ottimale è K = {'n_neighbors': 17} con score 0.96\n"
          ],
          "name": "stdout"
        },
        {
          "output_type": "execute_result",
          "data": {
            "text/plain": [
              "Dataset          Drop\n",
              "SMOTE              no\n",
              "Accuracy       0.9253\n",
              "Precision      0.9253\n",
              "Sensitivity         1\n",
              "Specificity         0\n",
              "F1 Score            0\n",
              "Name: K2, dtype: object"
            ]
          },
          "metadata": {
            "tags": []
          },
          "execution_count": 27
        }
      ]
    },
    {
      "cell_type": "code",
      "metadata": {
        "id": "xOQKTnBkpGFk",
        "colab_type": "code",
        "colab": {
          "base_uri": "https://localhost:8080/",
          "height": 170
        },
        "outputId": "b5651fce-6517-44e3-fd8d-c7f09d5c5a92"
      },
      "source": [
        "# dataset mean SMOTE\n",
        "neigh = np.arange(4, 20)\n",
        "parameters = {'n_neighbors': neigh}\n",
        "knn_mean_smote = GridSearchCV(KNeighborsClassifier(), parameters, scoring = 'f1')\n",
        "knn_mean_smote = knn_mean_smote.fit(X_SMOTE_mean, y_SMOTE_mean)\n",
        "knn_predict = knn_mean_smote.predict(X_test_mean)\n",
        "metrics.loc[\"K3\"] = get_metrics(['Mean', 'yes'], y_test_mean, knn_predict)\n",
        "K_metrics.loc[\"K3\"] = metrics.loc[\"K3\"]\n",
        "print(\"Il parametro ottimale è K = %s con score %0.2f\" % (knn_mean_smote.best_params_, knn_mean_smote.best_score_))\n",
        "metrics.loc[\"K3\"]"
      ],
      "execution_count": 28,
      "outputs": [
        {
          "output_type": "stream",
          "text": [
            "Il parametro ottimale è K = {'n_neighbors': 5} con score 0.76\n"
          ],
          "name": "stdout"
        },
        {
          "output_type": "execute_result",
          "data": {
            "text/plain": [
              "Dataset          Mean\n",
              "SMOTE             yes\n",
              "Accuracy       0.6509\n",
              "Precision      0.8809\n",
              "Sensitivity    0.6693\n",
              "Specificity    0.5621\n",
              "F1 Score       0.6863\n",
              "Name: K3, dtype: object"
            ]
          },
          "metadata": {
            "tags": []
          },
          "execution_count": 28
        }
      ]
    },
    {
      "cell_type": "code",
      "metadata": {
        "id": "HeiXoOSZpR51",
        "colab_type": "code",
        "colab": {
          "base_uri": "https://localhost:8080/",
          "height": 170
        },
        "outputId": "4b88e6a2-ad59-4454-deec-ba7d0b48785c"
      },
      "source": [
        "# dataset drop SMOTE\n",
        "neigh = np.arange(4, 20)\n",
        "parameters = {'n_neighbors': neigh}\n",
        "knn_drop_smote = GridSearchCV(KNeighborsClassifier(), parameters, scoring = 'f1')\n",
        "knn_drop_smote = knn_drop_smote.fit(X_SMOTE_drop, y_SMOTE_drop)\n",
        "knn_predict = knn_drop_smote.predict(X_test_drop)\n",
        "metrics.loc[\"K4\"] = get_metrics(['Drop', 'yes'], y_test_drop, knn_predict)\n",
        "K_metrics.loc[\"K4\"] = metrics.loc[\"K4\"]\n",
        "print(\"Il parametro ottimale è K = %s con score %0.2f\" % (knn_drop_smote.best_params_, knn_drop_smote.best_score_))\n",
        "metrics.loc[\"K4\"]"
      ],
      "execution_count": 29,
      "outputs": [
        {
          "output_type": "stream",
          "text": [
            "Il parametro ottimale è K = {'n_neighbors': 5} con score 0.78\n"
          ],
          "name": "stdout"
        },
        {
          "output_type": "execute_result",
          "data": {
            "text/plain": [
              "Dataset          Drop\n",
              "SMOTE             yes\n",
              "Accuracy       0.6805\n",
              "Precision      0.9272\n",
              "Sensitivity    0.7104\n",
              "Specificity    0.3092\n",
              "F1 Score       0.4637\n",
              "Name: K4, dtype: object"
            ]
          },
          "metadata": {
            "tags": []
          },
          "execution_count": 29
        }
      ]
    },
    {
      "cell_type": "code",
      "metadata": {
        "id": "-U2-Cf8upxYk",
        "colab_type": "code",
        "colab": {
          "base_uri": "https://localhost:8080/",
          "height": 173
        },
        "outputId": "489c5dd8-828f-4c0f-d924-04e626ab72a6"
      },
      "source": [
        "K_metrics.sort_values('F1 Score')"
      ],
      "execution_count": 30,
      "outputs": [
        {
          "output_type": "execute_result",
          "data": {
            "text/html": [
              "<div>\n",
              "<style scoped>\n",
              "    .dataframe tbody tr th:only-of-type {\n",
              "        vertical-align: middle;\n",
              "    }\n",
              "\n",
              "    .dataframe tbody tr th {\n",
              "        vertical-align: top;\n",
              "    }\n",
              "\n",
              "    .dataframe thead th {\n",
              "        text-align: right;\n",
              "    }\n",
              "</style>\n",
              "<table border=\"1\" class=\"dataframe\">\n",
              "  <thead>\n",
              "    <tr style=\"text-align: right;\">\n",
              "      <th></th>\n",
              "      <th>Dataset</th>\n",
              "      <th>SMOTE</th>\n",
              "      <th>Accuracy</th>\n",
              "      <th>Precision</th>\n",
              "      <th>Sensitivity</th>\n",
              "      <th>Specificity</th>\n",
              "      <th>F1 Score</th>\n",
              "    </tr>\n",
              "  </thead>\n",
              "  <tbody>\n",
              "    <tr>\n",
              "      <th>K2</th>\n",
              "      <td>Drop</td>\n",
              "      <td>no</td>\n",
              "      <td>0.9253</td>\n",
              "      <td>0.9253</td>\n",
              "      <td>1.0000</td>\n",
              "      <td>0.0000</td>\n",
              "      <td>0.0000</td>\n",
              "    </tr>\n",
              "    <tr>\n",
              "      <th>K1</th>\n",
              "      <td>Mean</td>\n",
              "      <td>no</td>\n",
              "      <td>0.8312</td>\n",
              "      <td>0.8449</td>\n",
              "      <td>0.9753</td>\n",
              "      <td>0.1341</td>\n",
              "      <td>0.2315</td>\n",
              "    </tr>\n",
              "    <tr>\n",
              "      <th>K4</th>\n",
              "      <td>Drop</td>\n",
              "      <td>yes</td>\n",
              "      <td>0.6805</td>\n",
              "      <td>0.9272</td>\n",
              "      <td>0.7104</td>\n",
              "      <td>0.3092</td>\n",
              "      <td>0.4637</td>\n",
              "    </tr>\n",
              "    <tr>\n",
              "      <th>K3</th>\n",
              "      <td>Mean</td>\n",
              "      <td>yes</td>\n",
              "      <td>0.6509</td>\n",
              "      <td>0.8809</td>\n",
              "      <td>0.6693</td>\n",
              "      <td>0.5621</td>\n",
              "      <td>0.6863</td>\n",
              "    </tr>\n",
              "  </tbody>\n",
              "</table>\n",
              "</div>"
            ],
            "text/plain": [
              "   Dataset SMOTE  Accuracy  Precision  Sensitivity  Specificity  F1 Score\n",
              "K2    Drop    no    0.9253     0.9253       1.0000       0.0000    0.0000\n",
              "K1    Mean    no    0.8312     0.8449       0.9753       0.1341    0.2315\n",
              "K4    Drop   yes    0.6805     0.9272       0.7104       0.3092    0.4637\n",
              "K3    Mean   yes    0.6509     0.8809       0.6693       0.5621    0.6863"
            ]
          },
          "metadata": {
            "tags": []
          },
          "execution_count": 30
        }
      ]
    },
    {
      "cell_type": "code",
      "metadata": {
        "id": "Y8T_R8r5pZ0T",
        "colab_type": "code",
        "colab": {
          "base_uri": "https://localhost:8080/",
          "height": 604
        },
        "outputId": "6fc844c6-9df6-4ede-b376-f524592bf876"
      },
      "source": [
        "fig, ((mean, drop), (smote_mean, smote_drop)) = plt.subplots(nrows = 2, ncols = 2, figsize = (10, 10))\n",
        "\n",
        "plot_confusion_matrix(knn_mean, X_test_mean, y_test_mean,\n",
        "                      cmap = plt.cm.Blues, values_format = '0.2%', normalize = 'true', \n",
        "                      ax = mean)\n",
        "plot_confusion_matrix(knn_drop, X_test_drop, y_test_drop,\n",
        "                      cmap = plt.cm.Blues, values_format = '0.2%', normalize = 'true',\n",
        "                      ax = drop)\n",
        "plot_confusion_matrix(knn_mean_smote, X_test_mean, y_test_mean,\n",
        "                      cmap = plt.cm.Blues, values_format = '0.2%', normalize = 'true',\n",
        "                      ax = smote_mean)\n",
        "plot_confusion_matrix(knn_drop_smote, X_test_drop, y_test_drop,\n",
        "                      cmap = plt.cm.Blues, values_format = '0.2%', normalize = 'true',\n",
        "                      ax = smote_drop)\n",
        "mean.set_title('K1: Mean dataset')\n",
        "drop.set_title('K2: Drop dataset')\n",
        "smote_mean.set_title('K3: SMOTE Mean')\n",
        "smote_drop.set_title('K4: SMOTE Drop')"
      ],
      "execution_count": 31,
      "outputs": [
        {
          "output_type": "execute_result",
          "data": {
            "text/plain": [
              "Text(0.5, 1.0, 'K4: SMOTE Drop')"
            ]
          },
          "metadata": {
            "tags": []
          },
          "execution_count": 31
        },
        {
          "output_type": "display_data",
          "data": {
            "image/png": "[encoded data removed]",
            "text/plain": [
              "<Figure size 720x720 with 8 Axes>"
            ]
          },
          "metadata": {
            "tags": [],
            "needs_background": "light"
          }
        }
      ]
    },
    {
      "cell_type": "markdown",
      "metadata": {
        "id": "i1Il-EiK_iDr",
        "colab_type": "text"
      },
      "source": [
        "## 4.3 <a class=\"anchor\" id=\"svm\">Support vector machines </a>\n",
        "Il modello di base Support-Vector Machine (SVM) trova l'iperpiano ottimale tra i punti di due classi in modo tale da massimizzare la distanza dei punti più vicini al limite di decisione.\n",
        "\n",
        "Chiaramente, non è scontato avere una separazione lineare, difatti SVM può essere generalizzato.\n",
        "\n",
        "Questa generalizzazione può essere effettuata scegliendo una funzione Kernel non lineare da applicare alla SVM.\n",
        "\n",
        "SVM usa generalmente come kernel lineare:\n",
        "$$ k({\\vec{x_i}},{\\vec{x_{j}}})={\\vec{x_{i}}}\\cdot{\\vec{x_{j}}}$$\n",
        "\n",
        "L'alternativa non lineare forse più comune è il kernel base radiale:\n",
        "$${k({\\vec{x_i},\\vec{x_{j}}})=\\exp(-\\gamma \\|{\\vec {x_{i}}}-{\\vec {x_{j}}}\\|^{2})}$$\n",
        "dove ${\\gamma \\gt 0}$ è un parametro da scegliere. Questa la funzione kernel predefinita nella libreria usata.\n",
        "\n",
        "Fondamentalmente, il kernel mappa i dati in un altro spazio in cui la classe può essere separata linearmente, mentre nello spazio originale, il confine sarà generalmente non lineare."
      ]
    },
    {
      "cell_type": "code",
      "metadata": {
        "id": "HDB-wGaRO8XQ",
        "colab_type": "code",
        "colab": {}
      },
      "source": [
        "S_metrics = pd.DataFrame(columns = ['Dataset', 'SMOTE', 'Accuracy', 'Precision', 'Sensitivity', 'Specificity', 'F1 Score'])"
      ],
      "execution_count": 32,
      "outputs": []
    },
    {
      "cell_type": "code",
      "metadata": {
        "id": "mM6NFqVcAoBp",
        "colab_type": "code",
        "colab": {
          "base_uri": "https://localhost:8080/",
          "height": 153
        },
        "outputId": "b0e797f7-dca6-4c1e-e003-006f955aac15"
      },
      "source": [
        "#dataset mean\n",
        "c = 0.01\n",
        "svm_mean = svm.SVC(gamma = 'auto', C = c, kernel = \"rbf\", random_state = SEED)\n",
        "svm_mean = svm_mean.fit(X_train_mean, y_train_mean)\n",
        "svm_mod_predict = svm_mean.predict(X_test_mean)\n",
        "metrics.loc[\"S1\"] = get_metrics(['Mean', 'no'], y_test_mean, svm_mod_predict)\n",
        "S_metrics.loc[\"S1\"] = metrics.loc[\"S1\"]\n",
        "metrics.loc[\"S1\"]"
      ],
      "execution_count": 33,
      "outputs": [
        {
          "output_type": "execute_result",
          "data": {
            "text/plain": [
              "Dataset          Mean\n",
              "SMOTE              no\n",
              "Accuracy       0.8287\n",
              "Precision      0.8287\n",
              "Sensitivity         1\n",
              "Specificity         0\n",
              "F1 Score            0\n",
              "Name: S1, dtype: object"
            ]
          },
          "metadata": {
            "tags": []
          },
          "execution_count": 33
        }
      ]
    },
    {
      "cell_type": "code",
      "metadata": {
        "id": "4JZfN11DA8nS",
        "colab_type": "code",
        "colab": {
          "base_uri": "https://localhost:8080/",
          "height": 153
        },
        "outputId": "173b0f86-2154-4ed7-af62-a4563cbe5e9d"
      },
      "source": [
        "#dataset drop\n",
        "c = 0.01\n",
        "svm_drop = svm.SVC(gamma = 'auto', C = c, kernel = \"rbf\", random_state = SEED)\n",
        "svm_mod = svm_drop.fit(X_train_drop, y_train_drop)\n",
        "svm_mod_predict = svm_mod.predict(X_test_drop)\n",
        "metrics.loc[\"S2\"] = get_metrics(['Drop', 'no'], y_test_drop, svm_mod_predict)\n",
        "S_metrics.loc[\"S2\"] = metrics.loc[\"S2\"]\n",
        "metrics.loc[\"S2\"]"
      ],
      "execution_count": 34,
      "outputs": [
        {
          "output_type": "execute_result",
          "data": {
            "text/plain": [
              "Dataset          Drop\n",
              "SMOTE              no\n",
              "Accuracy       0.9253\n",
              "Precision      0.9253\n",
              "Sensitivity         1\n",
              "Specificity         0\n",
              "F1 Score            0\n",
              "Name: S2, dtype: object"
            ]
          },
          "metadata": {
            "tags": []
          },
          "execution_count": 34
        }
      ]
    },
    {
      "cell_type": "code",
      "metadata": {
        "id": "4ivBqSLlqgHs",
        "colab_type": "code",
        "colab": {
          "base_uri": "https://localhost:8080/",
          "height": 153
        },
        "outputId": "719891b3-6646-445f-e113-c2eb4c9cf0aa"
      },
      "source": [
        "#dataset mean SMOTE\n",
        "c = 0.01\n",
        "svm_mean_smote = svm.SVC(gamma = 'auto', C = c, kernel = \"rbf\", random_state = SEED)\n",
        "svm_mean_smote = svm_mean_smote.fit(X_SMOTE_mean, y_SMOTE_mean)\n",
        "svm_mod_predict = svm_mean_smote.predict(X_test_mean)\n",
        "metrics.loc[\"S3\"] = get_metrics(['Mean', 'yes'], y_test_mean, svm_mod_predict)\n",
        "S_metrics.loc[\"S3\"] = metrics.loc[\"S3\"]\n",
        "metrics.loc[\"S3\"]"
      ],
      "execution_count": 35,
      "outputs": [
        {
          "output_type": "execute_result",
          "data": {
            "text/plain": [
              "Dataset          Mean\n",
              "SMOTE             yes\n",
              "Accuracy       0.8213\n",
              "Precision      0.8495\n",
              "Sensitivity    0.9532\n",
              "Specificity    0.1833\n",
              "F1 Score       0.3015\n",
              "Name: S3, dtype: object"
            ]
          },
          "metadata": {
            "tags": []
          },
          "execution_count": 35
        }
      ]
    },
    {
      "cell_type": "code",
      "metadata": {
        "id": "-efIMoqTqpDG",
        "colab_type": "code",
        "colab": {
          "base_uri": "https://localhost:8080/",
          "height": 153
        },
        "outputId": "152144dd-c327-4009-f1b6-48a07215ae94"
      },
      "source": [
        "#dataset drop SMOTE\n",
        "c = 0.01\n",
        "svm_drop_smote = svm.SVC(gamma = 'auto', C = c, kernel = \"rbf\", random_state = SEED)\n",
        "svm_drop_smote = svm_drop_smote.fit(X_SMOTE_drop, y_SMOTE_drop)\n",
        "svm_mod_predict = svm_drop_smote.predict(X_test_drop)\n",
        "metrics.loc[\"S4\"] = get_metrics(['Drop', 'yes'], y_test_drop, svm_mod_predict)\n",
        "S_metrics.loc[\"S4\"] = metrics.loc[\"S4\"]\n",
        "metrics.loc[\"S4\"]"
      ],
      "execution_count": 36,
      "outputs": [
        {
          "output_type": "execute_result",
          "data": {
            "text/plain": [
              "Dataset          Drop\n",
              "SMOTE             yes\n",
              "Accuracy       0.9068\n",
              "Precision      0.9271\n",
              "Sensitivity     0.976\n",
              "Specificity    0.0489\n",
              "F1 Score       0.0929\n",
              "Name: S4, dtype: object"
            ]
          },
          "metadata": {
            "tags": []
          },
          "execution_count": 36
        }
      ]
    },
    {
      "cell_type": "code",
      "metadata": {
        "id": "6WNZS9Zqq-z6",
        "colab_type": "code",
        "colab": {
          "base_uri": "https://localhost:8080/",
          "height": 173
        },
        "outputId": "23291239-87f7-4c4a-eccc-a3f7ab27d9a0"
      },
      "source": [
        "S_metrics.sort_values('F1 Score')"
      ],
      "execution_count": 37,
      "outputs": [
        {
          "output_type": "execute_result",
          "data": {
            "text/html": [
              "<div>\n",
              "<style scoped>\n",
              "    .dataframe tbody tr th:only-of-type {\n",
              "        vertical-align: middle;\n",
              "    }\n",
              "\n",
              "    .dataframe tbody tr th {\n",
              "        vertical-align: top;\n",
              "    }\n",
              "\n",
              "    .dataframe thead th {\n",
              "        text-align: right;\n",
              "    }\n",
              "</style>\n",
              "<table border=\"1\" class=\"dataframe\">\n",
              "  <thead>\n",
              "    <tr style=\"text-align: right;\">\n",
              "      <th></th>\n",
              "      <th>Dataset</th>\n",
              "      <th>SMOTE</th>\n",
              "      <th>Accuracy</th>\n",
              "      <th>Precision</th>\n",
              "      <th>Sensitivity</th>\n",
              "      <th>Specificity</th>\n",
              "      <th>F1 Score</th>\n",
              "    </tr>\n",
              "  </thead>\n",
              "  <tbody>\n",
              "    <tr>\n",
              "      <th>S1</th>\n",
              "      <td>Mean</td>\n",
              "      <td>no</td>\n",
              "      <td>0.8287</td>\n",
              "      <td>0.8287</td>\n",
              "      <td>1.0000</td>\n",
              "      <td>0.0000</td>\n",
              "      <td>0.0000</td>\n",
              "    </tr>\n",
              "    <tr>\n",
              "      <th>S2</th>\n",
              "      <td>Drop</td>\n",
              "      <td>no</td>\n",
              "      <td>0.9253</td>\n",
              "      <td>0.9253</td>\n",
              "      <td>1.0000</td>\n",
              "      <td>0.0000</td>\n",
              "      <td>0.0000</td>\n",
              "    </tr>\n",
              "    <tr>\n",
              "      <th>S4</th>\n",
              "      <td>Drop</td>\n",
              "      <td>yes</td>\n",
              "      <td>0.9068</td>\n",
              "      <td>0.9271</td>\n",
              "      <td>0.9760</td>\n",
              "      <td>0.0489</td>\n",
              "      <td>0.0929</td>\n",
              "    </tr>\n",
              "    <tr>\n",
              "      <th>S3</th>\n",
              "      <td>Mean</td>\n",
              "      <td>yes</td>\n",
              "      <td>0.8213</td>\n",
              "      <td>0.8495</td>\n",
              "      <td>0.9532</td>\n",
              "      <td>0.1833</td>\n",
              "      <td>0.3015</td>\n",
              "    </tr>\n",
              "  </tbody>\n",
              "</table>\n",
              "</div>"
            ],
            "text/plain": [
              "   Dataset SMOTE  Accuracy  Precision  Sensitivity  Specificity  F1 Score\n",
              "S1    Mean    no    0.8287     0.8287       1.0000       0.0000    0.0000\n",
              "S2    Drop    no    0.9253     0.9253       1.0000       0.0000    0.0000\n",
              "S4    Drop   yes    0.9068     0.9271       0.9760       0.0489    0.0929\n",
              "S3    Mean   yes    0.8213     0.8495       0.9532       0.1833    0.3015"
            ]
          },
          "metadata": {
            "tags": []
          },
          "execution_count": 37
        }
      ]
    },
    {
      "cell_type": "code",
      "metadata": {
        "id": "3aAhqDIQq2Vb",
        "colab_type": "code",
        "colab": {
          "base_uri": "https://localhost:8080/",
          "height": 604
        },
        "outputId": "fab56e58-22b4-42a5-dce2-c95790c1b591"
      },
      "source": [
        "fig, ((mean, drop), (smote_mean, smote_drop)) = plt.subplots(nrows = 2, ncols = 2, figsize = (10, 10))\n",
        "\n",
        "plot_confusion_matrix(svm_mean, X_test_mean, y_test_mean,\n",
        "                      cmap = plt.cm.Blues, values_format = '0.2%', normalize = 'true', \n",
        "                      ax = mean)\n",
        "plot_confusion_matrix(svm_drop, X_test_drop, y_test_drop,\n",
        "                      cmap = plt.cm.Blues, values_format = '0.2%', normalize = 'true',\n",
        "                      ax = drop)\n",
        "plot_confusion_matrix(svm_mean_smote, X_test_mean, y_test_mean,\n",
        "                      cmap = plt.cm.Blues, values_format = '0.2%', normalize = 'true',\n",
        "                      ax = smote_mean)\n",
        "plot_confusion_matrix(svm_drop_smote, X_test_drop, y_test_drop,\n",
        "                      cmap = plt.cm.Blues, values_format = '0.2%', normalize = 'true',\n",
        "                      ax = smote_drop)\n",
        "mean.set_title('S1: Mean dataset')\n",
        "drop.set_title('S2: Drop dataset')\n",
        "smote_mean.set_title('S3: SMOTE Mean')\n",
        "smote_drop.set_title('S4: SMOTE Drop')"
      ],
      "execution_count": 38,
      "outputs": [
        {
          "output_type": "execute_result",
          "data": {
            "text/plain": [
              "Text(0.5, 1.0, 'S4: SMOTE Drop')"
            ]
          },
          "metadata": {
            "tags": []
          },
          "execution_count": 38
        },
        {
          "output_type": "display_data",
          "data": {
            "image/png": "[encoded data removed]",
            "text/plain": [
              "<Figure size 720x720 with 8 Axes>"
            ]
          },
          "metadata": {
            "tags": [],
            "needs_background": "light"
          }
        }
      ]
    },
    {
      "cell_type": "markdown",
      "metadata": {
        "id": "JyncUYnJJ06X",
        "colab_type": "text"
      },
      "source": [
        "## 4.4 <a class=\"anchor\" id=\"tree\">Alberi di decisione</a>\n",
        "Un albero di decisione è un modello molto comune per i problemi di classificazione (è anche chiamato albero di classificazione). Descrive una struttura ad albero in cui i nodi foglia rappresentano le classificazioni e le ramificazioni l'insieme delle proprietà che portano a tali classificazioni. \n",
        "\n",
        "In molte situazioni è utile definire un criterio di arresto o un criterio di potatura per determinarne la profondità massima. Questo perché la profondità crescente di un albero (o le sue dimensioni) non influisce direttamente sulla bontà del modello. Infatti, una crescita eccessiva delle dimensioni dell'albero potrebbe solo portare ad un aumento sproporzionato della complessità computazionale rispetto ai benefici riguardanti l'accuratezza delle previsioni.\n",
        "\n",
        "L'algoritmo sceglie ad ogni passaggio la variabile che divide meglio l'insieme di elementi, secondo determinate metriche.\n",
        "\n",
        "I parametri utilizzati principalmente per guidare la costruzione dell'albero sono l'indice di Gini e la devianza dell'Entropia.\n",
        "\n",
        "L'indice di Gini è calcolato come: \n",
        "$$ GI(t) = 1-\\sum_{j=1}^k p(j|t)^2$$\n",
        "\n",
        "La devianza dell'Entropia come:\n",
        "$$ Entropy(t) = -\\sum_{j=1}^k p(j|t)log_2(p(j|t))$$\n",
        "$\\forall \\text{ node } t$, dove $p(j|t)$ è la frequenza relativa della classe $j$ al nodo $t$."
      ]
    },
    {
      "cell_type": "code",
      "metadata": {
        "id": "mSBjDaG0KJTJ",
        "colab_type": "code",
        "colab": {}
      },
      "source": [
        "depth = np.arange(4, 15) # for trees and forests\n",
        "parameters = {'max_depth': depth}"
      ],
      "execution_count": 39,
      "outputs": []
    },
    {
      "cell_type": "markdown",
      "metadata": {
        "id": "6K5vImfPrC2s",
        "colab_type": "text"
      },
      "source": [
        "#### Entropia"
      ]
    },
    {
      "cell_type": "code",
      "metadata": {
        "id": "g7J0Hiz3PfRs",
        "colab_type": "code",
        "colab": {}
      },
      "source": [
        "TE_metrics = pd.DataFrame(columns = ['Dataset', 'SMOTE', 'Accuracy', 'Precision', 'Sensitivity', 'Specificity', 'F1 Score'])"
      ],
      "execution_count": 40,
      "outputs": []
    },
    {
      "cell_type": "code",
      "metadata": {
        "id": "JFfR68U9KHZ_",
        "colab_type": "code",
        "colab": {
          "base_uri": "https://localhost:8080/",
          "height": 170
        },
        "outputId": "23b34e6d-1787-4b23-a64e-9d5bc03006d8"
      },
      "source": [
        "#dataset mean\n",
        "#Entropy criterion\n",
        "tree_Entropy_mean = GridSearchCV(tree.DecisionTreeClassifier(criterion = 'entropy', random_state = SEED), parameters, scoring = 'f1')\n",
        "tree_Entropy_mean = tree_Entropy_mean.fit(X_train_mean, y_train_mean)\n",
        "tree_Entropy_pred = tree_Entropy_mean.predict(X_test_mean)\n",
        "metrics.loc[\"TE1\"] = get_metrics(['Mean', 'no'], y_test_mean, tree_Entropy_pred)\n",
        "TE_metrics.loc[\"TE1\"] = metrics.loc[\"TE1\"]\n",
        "print(\"Il miglior parametro per l'albero di decisione con criterio Entropia è\" + \n",
        "     \"%s con score %0.2f\" % (tree_Entropy_mean.best_params_, tree_Entropy_mean.best_score_))\n",
        "metrics.loc[\"TE1\"]"
      ],
      "execution_count": 41,
      "outputs": [
        {
          "output_type": "stream",
          "text": [
            "Il miglior parametro per l'albero di decisione con criterio Entropia è{'max_depth': 4} con score 0.91\n"
          ],
          "name": "stdout"
        },
        {
          "output_type": "execute_result",
          "data": {
            "text/plain": [
              "Dataset          Mean\n",
              "SMOTE              no\n",
              "Accuracy       0.8348\n",
              "Precision      0.8536\n",
              "Sensitivity    0.9664\n",
              "Specificity     0.198\n",
              "F1 Score       0.3214\n",
              "Name: TE1, dtype: object"
            ]
          },
          "metadata": {
            "tags": []
          },
          "execution_count": 41
        }
      ]
    },
    {
      "cell_type": "code",
      "metadata": {
        "id": "-lfO79oYKVzI",
        "colab_type": "code",
        "colab": {
          "base_uri": "https://localhost:8080/",
          "height": 170
        },
        "outputId": "43978f0f-eeb7-4037-8aaf-ea4a95bca2d6"
      },
      "source": [
        "#dataset drop\n",
        "#Entropy criterion\n",
        "tree_Entropy_drop = GridSearchCV(tree.DecisionTreeClassifier(criterion = 'entropy', random_state = SEED), parameters, scoring = 'f1')\n",
        "tree_Entropy_drop = tree_Entropy_drop.fit(X_train_drop, y_train_drop)\n",
        "tree_Entropy_pred = tree_Entropy_drop.predict(X_test_drop)\n",
        "metrics.loc[\"TE2\"] = get_metrics(['Drop', 'no'], y_test_drop, tree_Entropy_pred)\n",
        "TE_metrics.loc[\"TE2\"] = metrics.loc[\"TE2\"]\n",
        "print(\"Il miglior parametro per l'albero di decisione con criterio Entropia è\" + \n",
        "     \"%s con score %0.2f\" % (tree_Entropy_drop.best_params_, tree_Entropy_drop.best_score_))\n",
        "metrics.loc[\"TE2\"]"
      ],
      "execution_count": 42,
      "outputs": [
        {
          "output_type": "stream",
          "text": [
            "Il miglior parametro per l'albero di decisione con criterio Entropia è{'max_depth': 4} con score 0.96\n"
          ],
          "name": "stdout"
        },
        {
          "output_type": "execute_result",
          "data": {
            "text/plain": [
              "Dataset          Drop\n",
              "SMOTE              no\n",
              "Accuracy        0.925\n",
              "Precision      0.9253\n",
              "Sensitivity    0.9997\n",
              "Specificity         0\n",
              "F1 Score            0\n",
              "Name: TE2, dtype: object"
            ]
          },
          "metadata": {
            "tags": []
          },
          "execution_count": 42
        }
      ]
    },
    {
      "cell_type": "code",
      "metadata": {
        "id": "tutfN2mirQMg",
        "colab_type": "code",
        "colab": {
          "base_uri": "https://localhost:8080/",
          "height": 170
        },
        "outputId": "2a25aa3a-0886-4fa6-ff53-c3953e3610c8"
      },
      "source": [
        "#dataset mean SMOTE\n",
        "#Entropy criterion\n",
        "tree_Entropy_mean_smote = GridSearchCV(tree.DecisionTreeClassifier(criterion = 'entropy', random_state = SEED), parameters, scoring = 'f1')\n",
        "tree_Entropy_mean_smote = tree_Entropy_mean_smote.fit(X_SMOTE_mean, y_SMOTE_mean)\n",
        "tree_Entropy_pred = tree_Entropy_mean_smote.predict(X_test_mean)\n",
        "metrics.loc[\"TE3\"] = get_metrics(['Mean', 'yes'], y_test_mean, tree_Entropy_pred)\n",
        "TE_metrics.loc[\"TE3\"] = metrics.loc[\"TE3\"]\n",
        "print(\"Il miglior parametro per l'albero di decisione con criterio Entropia è\" + \n",
        "     \"%s con score %0.2f\" % (tree_Entropy_mean_smote.best_params_, tree_Entropy_mean_smote.best_score_))\n",
        "metrics.loc[\"TE3\"]"
      ],
      "execution_count": 43,
      "outputs": [
        {
          "output_type": "stream",
          "text": [
            "Il miglior parametro per l'albero di decisione con criterio Entropia è{'max_depth': 13} con score 0.87\n"
          ],
          "name": "stdout"
        },
        {
          "output_type": "execute_result",
          "data": {
            "text/plain": [
              "Dataset          Mean\n",
              "SMOTE             yes\n",
              "Accuracy       0.8052\n",
              "Precision      0.9065\n",
              "Sensitivity    0.8529\n",
              "Specificity    0.5744\n",
              "F1 Score       0.7032\n",
              "Name: TE3, dtype: object"
            ]
          },
          "metadata": {
            "tags": []
          },
          "execution_count": 43
        }
      ]
    },
    {
      "cell_type": "code",
      "metadata": {
        "id": "eyrRwvifrlYZ",
        "colab_type": "code",
        "colab": {
          "base_uri": "https://localhost:8080/",
          "height": 170
        },
        "outputId": "b80c4164-6bdc-40c7-e3b9-d0601e43ea09"
      },
      "source": [
        "#dataset drop SMOTE\n",
        "#Entropy criterion\n",
        "tree_Entropy_drop_smote = GridSearchCV(tree.DecisionTreeClassifier(criterion = 'entropy', random_state = SEED), parameters, scoring = 'f1')\n",
        "tree_Entropy_drop_smote = tree_Entropy_drop_smote.fit(X_SMOTE_drop, y_SMOTE_drop)\n",
        "tree_Entropy_pred = tree_Entropy_drop_smote.predict(X_test_drop)\n",
        "metrics.loc[\"TE4\"] = get_metrics(['Drop', 'yes'], y_test_drop, tree_Entropy_pred)\n",
        "TE_metrics.loc[\"TE4\"] = metrics.loc[\"TE4\"]\n",
        "print(\"Il miglior parametro per l'albero di decisione con criterio Entropia è\" + \n",
        "     \"%s con score %0.2f\" % (tree_Entropy_drop_smote.best_params_, tree_Entropy_drop_smote.best_score_))\n",
        "metrics.loc[\"TE4\"]"
      ],
      "execution_count": 44,
      "outputs": [
        {
          "output_type": "stream",
          "text": [
            "Il miglior parametro per l'albero di decisione con criterio Entropia è{'max_depth': 14} con score 0.89\n"
          ],
          "name": "stdout"
        },
        {
          "output_type": "execute_result",
          "data": {
            "text/plain": [
              "Dataset          Drop\n",
              "SMOTE             yes\n",
              "Accuracy       0.9008\n",
              "Precision      0.9243\n",
              "Sensitivity    0.9724\n",
              "Specificity    0.0137\n",
              "F1 Score        0.027\n",
              "Name: TE4, dtype: object"
            ]
          },
          "metadata": {
            "tags": []
          },
          "execution_count": 44
        }
      ]
    },
    {
      "cell_type": "code",
      "metadata": {
        "id": "jcDOFKqOr5X5",
        "colab_type": "code",
        "colab": {
          "base_uri": "https://localhost:8080/",
          "height": 173
        },
        "outputId": "636853e3-6188-40b9-d2f4-a766636e7687"
      },
      "source": [
        "TE_metrics.sort_values('F1 Score')"
      ],
      "execution_count": 45,
      "outputs": [
        {
          "output_type": "execute_result",
          "data": {
            "text/html": [
              "<div>\n",
              "<style scoped>\n",
              "    .dataframe tbody tr th:only-of-type {\n",
              "        vertical-align: middle;\n",
              "    }\n",
              "\n",
              "    .dataframe tbody tr th {\n",
              "        vertical-align: top;\n",
              "    }\n",
              "\n",
              "    .dataframe thead th {\n",
              "        text-align: right;\n",
              "    }\n",
              "</style>\n",
              "<table border=\"1\" class=\"dataframe\">\n",
              "  <thead>\n",
              "    <tr style=\"text-align: right;\">\n",
              "      <th></th>\n",
              "      <th>Dataset</th>\n",
              "      <th>SMOTE</th>\n",
              "      <th>Accuracy</th>\n",
              "      <th>Precision</th>\n",
              "      <th>Sensitivity</th>\n",
              "      <th>Specificity</th>\n",
              "      <th>F1 Score</th>\n",
              "    </tr>\n",
              "  </thead>\n",
              "  <tbody>\n",
              "    <tr>\n",
              "      <th>TE2</th>\n",
              "      <td>Drop</td>\n",
              "      <td>no</td>\n",
              "      <td>0.9250</td>\n",
              "      <td>0.9253</td>\n",
              "      <td>0.9997</td>\n",
              "      <td>0.0000</td>\n",
              "      <td>0.0000</td>\n",
              "    </tr>\n",
              "    <tr>\n",
              "      <th>TE4</th>\n",
              "      <td>Drop</td>\n",
              "      <td>yes</td>\n",
              "      <td>0.9008</td>\n",
              "      <td>0.9243</td>\n",
              "      <td>0.9724</td>\n",
              "      <td>0.0137</td>\n",
              "      <td>0.0270</td>\n",
              "    </tr>\n",
              "    <tr>\n",
              "      <th>TE1</th>\n",
              "      <td>Mean</td>\n",
              "      <td>no</td>\n",
              "      <td>0.8348</td>\n",
              "      <td>0.8536</td>\n",
              "      <td>0.9664</td>\n",
              "      <td>0.1980</td>\n",
              "      <td>0.3214</td>\n",
              "    </tr>\n",
              "    <tr>\n",
              "      <th>TE3</th>\n",
              "      <td>Mean</td>\n",
              "      <td>yes</td>\n",
              "      <td>0.8052</td>\n",
              "      <td>0.9065</td>\n",
              "      <td>0.8529</td>\n",
              "      <td>0.5744</td>\n",
              "      <td>0.7032</td>\n",
              "    </tr>\n",
              "  </tbody>\n",
              "</table>\n",
              "</div>"
            ],
            "text/plain": [
              "    Dataset SMOTE  Accuracy  Precision  Sensitivity  Specificity  F1 Score\n",
              "TE2    Drop    no    0.9250     0.9253       0.9997       0.0000    0.0000\n",
              "TE4    Drop   yes    0.9008     0.9243       0.9724       0.0137    0.0270\n",
              "TE1    Mean    no    0.8348     0.8536       0.9664       0.1980    0.3214\n",
              "TE3    Mean   yes    0.8052     0.9065       0.8529       0.5744    0.7032"
            ]
          },
          "metadata": {
            "tags": []
          },
          "execution_count": 45
        }
      ]
    },
    {
      "cell_type": "code",
      "metadata": {
        "id": "bYlLDpJkrtpS",
        "colab_type": "code",
        "colab": {
          "base_uri": "https://localhost:8080/",
          "height": 604
        },
        "outputId": "733e68b0-6d00-46c0-f86b-4e04566be61d"
      },
      "source": [
        "fig, ((mean, drop), (smote_mean, smote_drop)) = plt.subplots(nrows = 2, ncols = 2, figsize = (10, 10))\n",
        "\n",
        "plot_confusion_matrix(tree_Entropy_mean, X_test_mean, y_test_mean,\n",
        "                      cmap = plt.cm.Blues, values_format = '0.2%', normalize = 'true', \n",
        "                      ax = mean)\n",
        "plot_confusion_matrix(tree_Entropy_drop, X_test_drop, y_test_drop,\n",
        "                      cmap = plt.cm.Blues, values_format = '0.2%', normalize = 'true',\n",
        "                      ax = drop)\n",
        "plot_confusion_matrix(tree_Entropy_mean_smote, X_test_mean, y_test_mean,\n",
        "                      cmap = plt.cm.Blues, values_format = '0.2%', normalize = 'true',\n",
        "                      ax = smote_mean)\n",
        "plot_confusion_matrix(tree_Entropy_drop_smote, X_test_drop, y_test_drop,\n",
        "                      cmap = plt.cm.Blues, values_format = '0.2%', normalize = 'true',\n",
        "                      ax = smote_drop)\n",
        "mean.set_title('TE1: Mean dataset')\n",
        "drop.set_title('TE2: Drop dataset')\n",
        "smote_mean.set_title('TE3: SMOTE Mean')\n",
        "smote_drop.set_title('TE4: SMOTE Drop')"
      ],
      "execution_count": 46,
      "outputs": [
        {
          "output_type": "execute_result",
          "data": {
            "text/plain": [
              "Text(0.5, 1.0, 'TE4: SMOTE Drop')"
            ]
          },
          "metadata": {
            "tags": []
          },
          "execution_count": 46
        },
        {
          "output_type": "display_data",
          "data": {
            "image/png": "[encoded data removed]",
            "text/plain": [
              "<Figure size 720x720 with 8 Axes>"
            ]
          },
          "metadata": {
            "tags": [],
            "needs_background": "light"
          }
        }
      ]
    },
    {
      "cell_type": "markdown",
      "metadata": {
        "id": "cRepvgtlrIPh",
        "colab_type": "text"
      },
      "source": [
        "#### Gini"
      ]
    },
    {
      "cell_type": "code",
      "metadata": {
        "id": "iIormDNmQZdm",
        "colab_type": "code",
        "colab": {}
      },
      "source": [
        "TG_metrics = pd.DataFrame(columns = ['Dataset', 'SMOTE', 'Accuracy', 'Precision', 'Sensitivity', 'Specificity', 'F1 Score'])"
      ],
      "execution_count": 47,
      "outputs": []
    },
    {
      "cell_type": "code",
      "metadata": {
        "id": "puf7YMK_KYyS",
        "colab_type": "code",
        "colab": {
          "base_uri": "https://localhost:8080/",
          "height": 170
        },
        "outputId": "9fe0d852-1010-48a6-da38-dfe0f718c05b"
      },
      "source": [
        "#dataset mean\n",
        "#Gini criterion\n",
        "tree_Gini_mean = GridSearchCV(tree.DecisionTreeClassifier(criterion = 'gini', random_state = SEED), parameters, scoring = 'f1')\n",
        "tree_Gini_mean = tree_Gini_mean.fit(X_train_mean, y_train_mean)\n",
        "tree_Gini_pred = tree_Gini_mean.predict(X_test_mean)\n",
        "metrics.loc[\"TG1\"] = get_metrics(['Mean', 'no'], y_test_mean, tree_Gini_pred)\n",
        "TG_metrics.loc[\"TG1\"] = metrics.loc[\"TG1\"]\n",
        "print(\"Il miglior parametro per l'albero di decisione con criterio Gini è\" + \n",
        "     \"%s con score %0.2f\" % (tree_Gini_mean.best_params_, tree_Gini_mean.best_score_))\n",
        "metrics.loc[\"TG1\"]"
      ],
      "execution_count": 48,
      "outputs": [
        {
          "output_type": "stream",
          "text": [
            "Il miglior parametro per l'albero di decisione con criterio Gini è{'max_depth': 4} con score 0.91\n"
          ],
          "name": "stdout"
        },
        {
          "output_type": "execute_result",
          "data": {
            "text/plain": [
              "Dataset          Mean\n",
              "SMOTE              no\n",
              "Accuracy       0.8347\n",
              "Precision      0.8535\n",
              "Sensitivity    0.9663\n",
              "Specificity     0.198\n",
              "F1 Score       0.3214\n",
              "Name: TG1, dtype: object"
            ]
          },
          "metadata": {
            "tags": []
          },
          "execution_count": 48
        }
      ]
    },
    {
      "cell_type": "code",
      "metadata": {
        "id": "b0ZWvpM7KcGE",
        "colab_type": "code",
        "colab": {
          "base_uri": "https://localhost:8080/",
          "height": 170
        },
        "outputId": "056cedb6-46ef-4a04-e682-a5f364420710"
      },
      "source": [
        "#dataset drop\n",
        "#Gini criterion\n",
        "tree_Gini_drop = GridSearchCV(tree.DecisionTreeClassifier(criterion = 'gini', random_state = SEED), parameters, scoring = 'f1')\n",
        "tree_Gini_drop = tree_Gini_drop.fit(X_train_drop, y_train_drop)\n",
        "tree_Gini_pred = tree_Gini_drop.predict(X_test_drop)\n",
        "metrics.loc[\"TG2\"] = get_metrics(['Drop', 'no'], y_test_drop, tree_Gini_pred)\n",
        "TG_metrics.loc[\"TG2\"] = metrics.loc[\"TG2\"]\n",
        "print(\"Il miglior parametro per l'albero di decisione con criterio Gini è\" + \n",
        "     \"%s con score %0.2f\" % (tree_Gini_drop.best_params_, tree_Gini_drop.best_score_))\n",
        "metrics.loc[\"TG2\"]"
      ],
      "execution_count": 49,
      "outputs": [
        {
          "output_type": "stream",
          "text": [
            "Il miglior parametro per l'albero di decisione con criterio Gini è{'max_depth': 4} con score 0.96\n"
          ],
          "name": "stdout"
        },
        {
          "output_type": "execute_result",
          "data": {
            "text/plain": [
              "Dataset          Drop\n",
              "SMOTE              no\n",
              "Accuracy       0.9253\n",
              "Precision      0.9253\n",
              "Sensitivity         1\n",
              "Specificity         0\n",
              "F1 Score            0\n",
              "Name: TG2, dtype: object"
            ]
          },
          "metadata": {
            "tags": []
          },
          "execution_count": 49
        }
      ]
    },
    {
      "cell_type": "code",
      "metadata": {
        "id": "nll4xT7Gr77O",
        "colab_type": "code",
        "colab": {
          "base_uri": "https://localhost:8080/",
          "height": 170
        },
        "outputId": "ffa769db-c2c5-4168-9b84-44f341b1e16f"
      },
      "source": [
        "#dataset mean SMOTE\n",
        "#Gini criterion\n",
        "tree_Gini_mean_smote = GridSearchCV(tree.DecisionTreeClassifier(criterion = 'gini', random_state = SEED), parameters, scoring = 'f1')\n",
        "tree_Gini_mean_smote = tree_Gini_mean_smote.fit(X_SMOTE_mean, y_SMOTE_mean)\n",
        "tree_Gini_pred = tree_Gini_mean_smote.predict(X_test_mean)\n",
        "metrics.loc[\"TG3\"] = get_metrics(['Mean', 'yes'], y_test_mean, tree_Gini_pred)\n",
        "TG_metrics.loc[\"TG3\"] = metrics.loc[\"TG3\"]\n",
        "print(\"Il miglior parametro per l'albero di decisione con criterio Gini è\" + \n",
        "     \"%s con score %0.2f\" % (tree_Gini_mean_smote.best_params_, tree_Gini_mean_smote.best_score_))\n",
        "metrics.loc[\"TG3\"]"
      ],
      "execution_count": 50,
      "outputs": [
        {
          "output_type": "stream",
          "text": [
            "Il miglior parametro per l'albero di decisione con criterio Gini è{'max_depth': 11} con score 0.87\n"
          ],
          "name": "stdout"
        },
        {
          "output_type": "execute_result",
          "data": {
            "text/plain": [
              "Dataset          Mean\n",
              "SMOTE             yes\n",
              "Accuracy       0.8085\n",
              "Precision      0.9067\n",
              "Sensitivity    0.8571\n",
              "Specificity    0.5732\n",
              "F1 Score       0.7024\n",
              "Name: TG3, dtype: object"
            ]
          },
          "metadata": {
            "tags": []
          },
          "execution_count": 50
        }
      ]
    },
    {
      "cell_type": "code",
      "metadata": {
        "id": "5lI_yQiZsL7F",
        "colab_type": "code",
        "colab": {
          "base_uri": "https://localhost:8080/",
          "height": 170
        },
        "outputId": "3a89a51d-ad48-4009-8459-4fdbe4906e5a"
      },
      "source": [
        "#dataset drop SMOTE\n",
        "#Gini criterion\n",
        "tree_Gini_drop_smote = GridSearchCV(tree.DecisionTreeClassifier(criterion = 'gini', random_state = SEED), parameters, scoring = 'f1')\n",
        "tree_Gini_drop_smote = tree_Gini_drop_smote.fit(X_SMOTE_drop, y_SMOTE_drop)\n",
        "tree_Gini_pred = tree_Gini_drop_smote.predict(X_test_drop)\n",
        "metrics.loc[\"TG4\"] = get_metrics(['Drop', 'yes'], y_test_drop, tree_Gini_pred)\n",
        "TG_metrics.loc[\"TG4\"] = metrics.loc[\"TG4\"]\n",
        "print(\"Il miglior parametro per l'albero di decisione con criterio Gini è\" + \n",
        "     \"%s con score %0.2f\" % (tree_Gini_drop_smote.best_params_, tree_Gini_drop_smote.best_score_))\n",
        "metrics.loc[\"TG4\"]"
      ],
      "execution_count": 51,
      "outputs": [
        {
          "output_type": "stream",
          "text": [
            "Il miglior parametro per l'albero di decisione con criterio Gini è{'max_depth': 14} con score 0.89\n"
          ],
          "name": "stdout"
        },
        {
          "output_type": "execute_result",
          "data": {
            "text/plain": [
              "Dataset          Drop\n",
              "SMOTE             yes\n",
              "Accuracy       0.8837\n",
              "Precision      0.9259\n",
              "Sensitivity    0.9504\n",
              "Specificity    0.0568\n",
              "F1 Score        0.107\n",
              "Name: TG4, dtype: object"
            ]
          },
          "metadata": {
            "tags": []
          },
          "execution_count": 51
        }
      ]
    },
    {
      "cell_type": "code",
      "metadata": {
        "id": "56zaCylLsj50",
        "colab_type": "code",
        "colab": {
          "base_uri": "https://localhost:8080/",
          "height": 173
        },
        "outputId": "0a37503a-0fd4-4de7-d7d4-c312693932da"
      },
      "source": [
        "TG_metrics.sort_values('F1 Score')"
      ],
      "execution_count": 52,
      "outputs": [
        {
          "output_type": "execute_result",
          "data": {
            "text/html": [
              "<div>\n",
              "<style scoped>\n",
              "    .dataframe tbody tr th:only-of-type {\n",
              "        vertical-align: middle;\n",
              "    }\n",
              "\n",
              "    .dataframe tbody tr th {\n",
              "        vertical-align: top;\n",
              "    }\n",
              "\n",
              "    .dataframe thead th {\n",
              "        text-align: right;\n",
              "    }\n",
              "</style>\n",
              "<table border=\"1\" class=\"dataframe\">\n",
              "  <thead>\n",
              "    <tr style=\"text-align: right;\">\n",
              "      <th></th>\n",
              "      <th>Dataset</th>\n",
              "      <th>SMOTE</th>\n",
              "      <th>Accuracy</th>\n",
              "      <th>Precision</th>\n",
              "      <th>Sensitivity</th>\n",
              "      <th>Specificity</th>\n",
              "      <th>F1 Score</th>\n",
              "    </tr>\n",
              "  </thead>\n",
              "  <tbody>\n",
              "    <tr>\n",
              "      <th>TG2</th>\n",
              "      <td>Drop</td>\n",
              "      <td>no</td>\n",
              "      <td>0.9253</td>\n",
              "      <td>0.9253</td>\n",
              "      <td>1.0000</td>\n",
              "      <td>0.0000</td>\n",
              "      <td>0.0000</td>\n",
              "    </tr>\n",
              "    <tr>\n",
              "      <th>TG4</th>\n",
              "      <td>Drop</td>\n",
              "      <td>yes</td>\n",
              "      <td>0.8837</td>\n",
              "      <td>0.9259</td>\n",
              "      <td>0.9504</td>\n",
              "      <td>0.0568</td>\n",
              "      <td>0.1070</td>\n",
              "    </tr>\n",
              "    <tr>\n",
              "      <th>TG1</th>\n",
              "      <td>Mean</td>\n",
              "      <td>no</td>\n",
              "      <td>0.8347</td>\n",
              "      <td>0.8535</td>\n",
              "      <td>0.9663</td>\n",
              "      <td>0.1980</td>\n",
              "      <td>0.3214</td>\n",
              "    </tr>\n",
              "    <tr>\n",
              "      <th>TG3</th>\n",
              "      <td>Mean</td>\n",
              "      <td>yes</td>\n",
              "      <td>0.8085</td>\n",
              "      <td>0.9067</td>\n",
              "      <td>0.8571</td>\n",
              "      <td>0.5732</td>\n",
              "      <td>0.7024</td>\n",
              "    </tr>\n",
              "  </tbody>\n",
              "</table>\n",
              "</div>"
            ],
            "text/plain": [
              "    Dataset SMOTE  Accuracy  Precision  Sensitivity  Specificity  F1 Score\n",
              "TG2    Drop    no    0.9253     0.9253       1.0000       0.0000    0.0000\n",
              "TG4    Drop   yes    0.8837     0.9259       0.9504       0.0568    0.1070\n",
              "TG1    Mean    no    0.8347     0.8535       0.9663       0.1980    0.3214\n",
              "TG3    Mean   yes    0.8085     0.9067       0.8571       0.5732    0.7024"
            ]
          },
          "metadata": {
            "tags": []
          },
          "execution_count": 52
        }
      ]
    },
    {
      "cell_type": "code",
      "metadata": {
        "id": "e2iNe2pVsb37",
        "colab_type": "code",
        "colab": {
          "base_uri": "https://localhost:8080/",
          "height": 604
        },
        "outputId": "d96d1c0f-31ae-49e9-be02-ebb5fb1ad82a"
      },
      "source": [
        "fig, ((mean, drop), (smote_mean, smote_drop)) = plt.subplots(nrows = 2, ncols = 2, figsize = (10, 10))\n",
        "\n",
        "plot_confusion_matrix(tree_Gini_mean, X_test_mean, y_test_mean,\n",
        "                      cmap = plt.cm.Blues, values_format = '0.2%', normalize = 'true', \n",
        "                      ax = mean)\n",
        "plot_confusion_matrix(tree_Gini_drop, X_test_drop, y_test_drop,\n",
        "                      cmap = plt.cm.Blues, values_format = '0.2%', normalize = 'true',\n",
        "                      ax = drop)\n",
        "plot_confusion_matrix(tree_Gini_mean_smote, X_test_mean, y_test_mean,\n",
        "                      cmap = plt.cm.Blues, values_format = '0.2%', normalize = 'true',\n",
        "                      ax = smote_mean)\n",
        "plot_confusion_matrix(tree_Gini_drop_smote, X_test_drop, y_test_drop,\n",
        "                      cmap = plt.cm.Blues, values_format = '0.2%', normalize = 'true',\n",
        "                      ax = smote_drop)\n",
        "mean.set_title('TG1: Mean dataset')\n",
        "drop.set_title('TG2: Drop dataset')\n",
        "smote_mean.set_title('TG3: SMOTE Mean')\n",
        "smote_drop.set_title('TG4: SMOTE Drop')"
      ],
      "execution_count": 53,
      "outputs": [
        {
          "output_type": "execute_result",
          "data": {
            "text/plain": [
              "Text(0.5, 1.0, 'TG4: SMOTE Drop')"
            ]
          },
          "metadata": {
            "tags": []
          },
          "execution_count": 53
        },
        {
          "output_type": "display_data",
          "data": {
            "image/png": "[encoded data removed]",
            "text/plain": [
              "<Figure size 720x720 with 8 Axes>"
            ]
          },
          "metadata": {
            "tags": [],
            "needs_background": "light"
          }
        }
      ]
    },
    {
      "cell_type": "markdown",
      "metadata": {
        "id": "fyI6uAurM0ye",
        "colab_type": "text"
      },
      "source": [
        "## 4.5 <a class=\"anchor\" id=\"forest\">Random forest</a>\n",
        "Come può suggerire il nome, il Random forest viene ottenuto usando in parallelo diversi alberi di decisioni contemporaneamente.\n",
        "\n",
        "L'idea generale è di applicare un numero (ragionevolmente grande) di alberi di decisione su sottocampioni diversi e infine decidere l'etichetta a maggioranza. Applicare gli alberi su insiemi diversi è una soluzione per minimizzare l'adattamento eccessivo ai dati, grande pecca degli alberi di decisione.\n"
      ]
    },
    {
      "cell_type": "code",
      "metadata": {
        "id": "_7aNMcGtN4U1",
        "colab_type": "code",
        "colab": {}
      },
      "source": [
        "# Random forest\n",
        "parameters = {'max_depth': depth}"
      ],
      "execution_count": 54,
      "outputs": []
    },
    {
      "cell_type": "markdown",
      "metadata": {
        "id": "lAnJflr2smMV",
        "colab_type": "text"
      },
      "source": [
        "### Entropia"
      ]
    },
    {
      "cell_type": "code",
      "metadata": {
        "id": "lhb3CCsNRBtr",
        "colab_type": "code",
        "colab": {}
      },
      "source": [
        "FE_metrics = pd.DataFrame(columns = ['Dataset', 'SMOTE', 'Accuracy', 'Precision', 'Sensitivity', 'Specificity', 'F1 Score'])"
      ],
      "execution_count": 55,
      "outputs": []
    },
    {
      "cell_type": "code",
      "metadata": {
        "id": "drMB8SOuNx_G",
        "colab_type": "code",
        "colab": {
          "base_uri": "https://localhost:8080/",
          "height": 170
        },
        "outputId": "2ac7c871-e163-404d-e4f0-0d4dcd6a9bea"
      },
      "source": [
        "#dataset mean\n",
        "#Entropy criterion\n",
        "forest_Entropy_mean = GridSearchCV(RandomForestClassifier(n_estimators = 100, criterion = 'entropy', \n",
        "                                                     random_state = SEED), parameters, scoring = 'f1')\n",
        "forest_Entropy_mean = forest_Entropy_mean.fit(X_train_mean, y_train_mean)\n",
        "forest_Entropy_pred = forest_Entropy_mean.predict(X_test_mean)\n",
        "metrics.loc[\"FE1\"] = get_metrics(['Mean', 'no'], y_test_mean, forest_Entropy_pred)\n",
        "FE_metrics.loc[\"FE1\"] = metrics.loc[\"FE1\"]\n",
        "print(\"I parametri ottimali per Random Forest sono %s con score %0.2f\" % \n",
        "      (forest_Entropy_mean.best_params_, forest_Entropy_mean.best_score_))\n",
        "metrics.loc[\"FE1\"]"
      ],
      "execution_count": 56,
      "outputs": [
        {
          "output_type": "stream",
          "text": [
            "I parametri ottimali per Random Forest sono {'max_depth': 5} con score 0.91\n"
          ],
          "name": "stdout"
        },
        {
          "output_type": "execute_result",
          "data": {
            "text/plain": [
              "Dataset          Mean\n",
              "SMOTE              no\n",
              "Accuracy       0.8337\n",
              "Precision      0.8427\n",
              "Sensitivity    0.9828\n",
              "Specificity    0.1125\n",
              "F1 Score       0.1985\n",
              "Name: FE1, dtype: object"
            ]
          },
          "metadata": {
            "tags": []
          },
          "execution_count": 56
        }
      ]
    },
    {
      "cell_type": "code",
      "metadata": {
        "id": "4TLz6rA4OOoV",
        "colab_type": "code",
        "colab": {
          "base_uri": "https://localhost:8080/",
          "height": 170
        },
        "outputId": "13df86d6-6da6-4a64-be11-0d08828587ca"
      },
      "source": [
        "#dataset drop\n",
        "#Entropy criterion\n",
        "forest_Entropy_drop = GridSearchCV(RandomForestClassifier(n_estimators = 100, criterion = 'entropy', \n",
        "                                                     random_state = SEED), parameters, scoring = 'f1')\n",
        "forest_Entropy_drop = forest_Entropy_drop.fit(X_train_drop, y_train_drop)\n",
        "forest_Entropy_pred = forest_Entropy_drop.predict(X_test_drop)\n",
        "metrics.loc[\"FE2\"] = get_metrics(['Drop', 'no'], y_test_drop, forest_Entropy_pred)\n",
        "FE_metrics.loc[\"FE2\"] = metrics.loc[\"FE2\"]\n",
        "print(\"I parametri ottimali per Random Forest sono %s con score %0.2f\" % \n",
        "      (forest_Entropy_drop.best_params_, forest_Entropy_drop.best_score_))\n",
        "metrics.loc[\"FE2\"]"
      ],
      "execution_count": 57,
      "outputs": [
        {
          "output_type": "stream",
          "text": [
            "I parametri ottimali per Random Forest sono {'max_depth': 4} con score 0.96\n"
          ],
          "name": "stdout"
        },
        {
          "output_type": "execute_result",
          "data": {
            "text/plain": [
              "Dataset          Drop\n",
              "SMOTE              no\n",
              "Accuracy       0.9253\n",
              "Precision      0.9253\n",
              "Sensitivity         1\n",
              "Specificity         0\n",
              "F1 Score            0\n",
              "Name: FE2, dtype: object"
            ]
          },
          "metadata": {
            "tags": []
          },
          "execution_count": 57
        }
      ]
    },
    {
      "cell_type": "code",
      "metadata": {
        "id": "dvWJtcKEsv7A",
        "colab_type": "code",
        "colab": {
          "base_uri": "https://localhost:8080/",
          "height": 170
        },
        "outputId": "18ac20ff-4e01-48da-cda7-4a47b8403dbd"
      },
      "source": [
        "#dataset mean SMOTE\n",
        "#Entropy criterion\n",
        "forest_Entropy_mean_smote = GridSearchCV(RandomForestClassifier(n_estimators = 100, criterion = 'entropy', \n",
        "                                                     random_state = SEED), parameters, scoring = 'f1')\n",
        "forest_Entropy_mean_smote = forest_Entropy_mean_smote.fit(X_SMOTE_mean, y_SMOTE_mean)\n",
        "forest_Entropy_pred = forest_Entropy_mean_smote.predict(X_test_mean)\n",
        "metrics.loc[\"FE3\"] = get_metrics(['Mean', 'yes'], y_test_mean, forest_Entropy_pred)\n",
        "FE_metrics.loc[\"FE3\"] = metrics.loc[\"FE3\"]\n",
        "print(\"I parametri ottimali per Random Forest sono %s con score %0.2f\" % \n",
        "      (forest_Entropy_mean_smote.best_params_, forest_Entropy_mean_smote.best_score_))\n",
        "metrics.loc[\"FE3\"]"
      ],
      "execution_count": 58,
      "outputs": [
        {
          "output_type": "stream",
          "text": [
            "I parametri ottimali per Random Forest sono {'max_depth': 14} con score 0.87\n"
          ],
          "name": "stdout"
        },
        {
          "output_type": "execute_result",
          "data": {
            "text/plain": [
              "Dataset          Mean\n",
              "SMOTE             yes\n",
              "Accuracy       0.8131\n",
              "Precision      0.9075\n",
              "Sensitivity    0.8623\n",
              "Specificity     0.575\n",
              "F1 Score        0.704\n",
              "Name: FE3, dtype: object"
            ]
          },
          "metadata": {
            "tags": []
          },
          "execution_count": 58
        }
      ]
    },
    {
      "cell_type": "code",
      "metadata": {
        "id": "-8mVUO-Ss6cr",
        "colab_type": "code",
        "colab": {
          "base_uri": "https://localhost:8080/",
          "height": 170
        },
        "outputId": "b3ad6c08-a575-46f4-d1ea-6db85cea5e42"
      },
      "source": [
        "#dataset drop SMOTE\n",
        "#Entropy criterion\n",
        "forest_Entropy_drop_smote = GridSearchCV(RandomForestClassifier(n_estimators = 100, criterion = 'entropy', \n",
        "                                                     random_state = SEED), parameters, scoring = 'f1')\n",
        "forest_Entropy_drop_smote = forest_Entropy_drop_smote.fit(X_SMOTE_drop, y_SMOTE_drop)\n",
        "forest_Entropy_pred = forest_Entropy_drop.predict(X_test_drop)\n",
        "metrics.loc[\"FE4\"] = get_metrics(['Drop', 'yes'], y_test_drop, forest_Entropy_pred)\n",
        "FE_metrics.loc[\"FE4\"] = metrics.loc[\"FE4\"]\n",
        "print(\"I parametri ottimali per Random Forest sono %s con score %0.2f\" % \n",
        "      (forest_Entropy_drop_smote.best_params_, forest_Entropy_drop_smote.best_score_))\n",
        "metrics.loc[\"FE4\"]"
      ],
      "execution_count": 59,
      "outputs": [
        {
          "output_type": "stream",
          "text": [
            "I parametri ottimali per Random Forest sono {'max_depth': 14} con score 0.93\n"
          ],
          "name": "stdout"
        },
        {
          "output_type": "execute_result",
          "data": {
            "text/plain": [
              "Dataset          Drop\n",
              "SMOTE             yes\n",
              "Accuracy       0.9253\n",
              "Precision      0.9253\n",
              "Sensitivity         1\n",
              "Specificity         0\n",
              "F1 Score            0\n",
              "Name: FE4, dtype: object"
            ]
          },
          "metadata": {
            "tags": []
          },
          "execution_count": 59
        }
      ]
    },
    {
      "cell_type": "code",
      "metadata": {
        "id": "yTJbSedYRqs6",
        "colab_type": "code",
        "colab": {
          "base_uri": "https://localhost:8080/",
          "height": 173
        },
        "outputId": "8ceadf1d-9347-4b60-eae9-fe8e0f89591d"
      },
      "source": [
        "FE_metrics.sort_values('F1 Score')"
      ],
      "execution_count": 60,
      "outputs": [
        {
          "output_type": "execute_result",
          "data": {
            "text/html": [
              "<div>\n",
              "<style scoped>\n",
              "    .dataframe tbody tr th:only-of-type {\n",
              "        vertical-align: middle;\n",
              "    }\n",
              "\n",
              "    .dataframe tbody tr th {\n",
              "        vertical-align: top;\n",
              "    }\n",
              "\n",
              "    .dataframe thead th {\n",
              "        text-align: right;\n",
              "    }\n",
              "</style>\n",
              "<table border=\"1\" class=\"dataframe\">\n",
              "  <thead>\n",
              "    <tr style=\"text-align: right;\">\n",
              "      <th></th>\n",
              "      <th>Dataset</th>\n",
              "      <th>SMOTE</th>\n",
              "      <th>Accuracy</th>\n",
              "      <th>Precision</th>\n",
              "      <th>Sensitivity</th>\n",
              "      <th>Specificity</th>\n",
              "      <th>F1 Score</th>\n",
              "    </tr>\n",
              "  </thead>\n",
              "  <tbody>\n",
              "    <tr>\n",
              "      <th>FE2</th>\n",
              "      <td>Drop</td>\n",
              "      <td>no</td>\n",
              "      <td>0.9253</td>\n",
              "      <td>0.9253</td>\n",
              "      <td>1.0000</td>\n",
              "      <td>0.0000</td>\n",
              "      <td>0.0000</td>\n",
              "    </tr>\n",
              "    <tr>\n",
              "      <th>FE4</th>\n",
              "      <td>Drop</td>\n",
              "      <td>yes</td>\n",
              "      <td>0.9253</td>\n",
              "      <td>0.9253</td>\n",
              "      <td>1.0000</td>\n",
              "      <td>0.0000</td>\n",
              "      <td>0.0000</td>\n",
              "    </tr>\n",
              "    <tr>\n",
              "      <th>FE1</th>\n",
              "      <td>Mean</td>\n",
              "      <td>no</td>\n",
              "      <td>0.8337</td>\n",
              "      <td>0.8427</td>\n",
              "      <td>0.9828</td>\n",
              "      <td>0.1125</td>\n",
              "      <td>0.1985</td>\n",
              "    </tr>\n",
              "    <tr>\n",
              "      <th>FE3</th>\n",
              "      <td>Mean</td>\n",
              "      <td>yes</td>\n",
              "      <td>0.8131</td>\n",
              "      <td>0.9075</td>\n",
              "      <td>0.8623</td>\n",
              "      <td>0.5750</td>\n",
              "      <td>0.7040</td>\n",
              "    </tr>\n",
              "  </tbody>\n",
              "</table>\n",
              "</div>"
            ],
            "text/plain": [
              "    Dataset SMOTE  Accuracy  Precision  Sensitivity  Specificity  F1 Score\n",
              "FE2    Drop    no    0.9253     0.9253       1.0000       0.0000    0.0000\n",
              "FE4    Drop   yes    0.9253     0.9253       1.0000       0.0000    0.0000\n",
              "FE1    Mean    no    0.8337     0.8427       0.9828       0.1125    0.1985\n",
              "FE3    Mean   yes    0.8131     0.9075       0.8623       0.5750    0.7040"
            ]
          },
          "metadata": {
            "tags": []
          },
          "execution_count": 60
        }
      ]
    },
    {
      "cell_type": "code",
      "metadata": {
        "id": "AsLbFdegtPsr",
        "colab_type": "code",
        "colab": {
          "base_uri": "https://localhost:8080/",
          "height": 604
        },
        "outputId": "65027fdc-aa62-42d5-d629-777840838602"
      },
      "source": [
        "fig, ((mean, drop), (smote_mean, smote_drop)) = plt.subplots(nrows = 2, ncols = 2, figsize = (10, 10))\n",
        "\n",
        "plot_confusion_matrix(forest_Entropy_mean, X_test_mean, y_test_mean,\n",
        "                      cmap = plt.cm.Blues, values_format = '0.2%', normalize = 'true', \n",
        "                      ax = mean)\n",
        "plot_confusion_matrix(forest_Entropy_drop, X_test_drop, y_test_drop,\n",
        "                      cmap = plt.cm.Blues, values_format = '0.2%', normalize = 'true',\n",
        "                      ax = drop)\n",
        "plot_confusion_matrix(forest_Entropy_mean_smote, X_test_mean, y_test_mean,\n",
        "                      cmap = plt.cm.Blues, values_format = '0.2%', normalize = 'true',\n",
        "                      ax = smote_mean)\n",
        "plot_confusion_matrix(forest_Entropy_drop_smote, X_test_drop, y_test_drop,\n",
        "                      cmap = plt.cm.Blues, values_format = '0.2%', normalize = 'true',\n",
        "                      ax = smote_drop)\n",
        "mean.set_title('FE1: Mean dataset')\n",
        "drop.set_title('FE2: Drop dataset')\n",
        "smote_mean.set_title('FE3: SMOTE Mean')\n",
        "smote_drop.set_title('FE4: SMOTE Drop')"
      ],
      "execution_count": 61,
      "outputs": [
        {
          "output_type": "execute_result",
          "data": {
            "text/plain": [
              "Text(0.5, 1.0, 'FE4: SMOTE Drop')"
            ]
          },
          "metadata": {
            "tags": []
          },
          "execution_count": 61
        },
        {
          "output_type": "display_data",
          "data": {
            "image/png": "[encoded data removed]",
            "text/plain": [
              "<Figure size 720x720 with 8 Axes>"
            ]
          },
          "metadata": {
            "tags": [],
            "needs_background": "light"
          }
        }
      ]
    },
    {
      "cell_type": "markdown",
      "metadata": {
        "id": "wxtJ-TnespCl",
        "colab_type": "text"
      },
      "source": [
        "### Gini"
      ]
    },
    {
      "cell_type": "code",
      "metadata": {
        "id": "hhtavZlfRvGX",
        "colab_type": "code",
        "colab": {}
      },
      "source": [
        "FG_metrics = pd.DataFrame(columns = ['Dataset', 'SMOTE', 'Accuracy', 'Precision', 'Sensitivity', 'Specificity', 'F1 Score'])"
      ],
      "execution_count": 62,
      "outputs": []
    },
    {
      "cell_type": "code",
      "metadata": {
        "id": "LuyLEGUCOZvK",
        "colab_type": "code",
        "colab": {
          "base_uri": "https://localhost:8080/",
          "height": 170
        },
        "outputId": "dbcefbd7-5915-4351-d91d-a098f36d9d8e"
      },
      "source": [
        "#dataset mean\n",
        "#Gini criterion\n",
        "forest_Gini_mean = GridSearchCV(RandomForestClassifier(n_estimators = 100, criterion = 'gini', \n",
        "                                                  random_state = SEED), parameters, scoring = 'f1')\n",
        "forest_Gini_mean = forest_Gini_mean.fit(X_train_mean, y_train_mean)\n",
        "forest_Gini_pred = forest_Gini_mean.predict(X_test_mean)\n",
        "metrics.loc[\"FG1\"] = get_metrics(['Mean', 'no'], y_test_mean, forest_Gini_pred)\n",
        "FG_metrics.loc[\"FG1\"] = metrics.loc[\"FG1\"]\n",
        "print(\"I parametri ottimali per Random Forest sono %s con score %0.2f\" % \n",
        "      (forest_Gini_mean.best_params_, forest_Gini_mean.best_score_))\n",
        "metrics.loc[\"FG1\"]"
      ],
      "execution_count": 63,
      "outputs": [
        {
          "output_type": "stream",
          "text": [
            "I parametri ottimali per Random Forest sono {'max_depth': 5} con score 0.91\n"
          ],
          "name": "stdout"
        },
        {
          "output_type": "execute_result",
          "data": {
            "text/plain": [
              "Dataset          Mean\n",
              "SMOTE              no\n",
              "Accuracy       0.8336\n",
              "Precision      0.8416\n",
              "Sensitivity    0.9846\n",
              "Specificity    0.1033\n",
              "F1 Score        0.184\n",
              "Name: FG1, dtype: object"
            ]
          },
          "metadata": {
            "tags": []
          },
          "execution_count": 63
        }
      ]
    },
    {
      "cell_type": "code",
      "metadata": {
        "id": "x5rCZXg3txfY",
        "colab_type": "code",
        "colab": {}
      },
      "source": [
        "#dataset drop\n",
        "#Gini criterion\n",
        "forest_Gini_drop = GridSearchCV(RandomForestClassifier(n_estimators = 100, criterion = 'gini', \n",
        "                                                  random_state = SEED), parameters, scoring = 'f1')\n",
        "forest_Gini_drop = forest_Gini_drop.fit(X_train_drop, y_train_drop)\n",
        "forest_Gini_pred = forest_Gini_drop.predict(X_test_drop)\n",
        "metrics.loc[\"FG2\"] = get_metrics(['Drop', 'no'], y_test_drop, forest_Gini_pred)\n",
        "FG_metrics.loc[\"FG2\"] = metrics.loc[\"FG2\"]\n",
        "print(\"I parametri ottimali per Random Forest sono %s con score %0.2f\" % \n",
        "      (forest_Gini_drop.best_params_, forest_Gini_drop.best_score_))\n",
        "metrics.loc[\"FG2\"]"
      ],
      "execution_count": null,
      "outputs": []
    },
    {
      "cell_type": "code",
      "metadata": {
        "id": "7erzl42_t4PG",
        "colab_type": "code",
        "colab": {}
      },
      "source": [
        "#dataset mean SMOTE\n",
        "#Gini criterion\n",
        "forest_Gini_mean_smote = GridSearchCV(RandomForestClassifier(n_estimators = 100, criterion = 'gini', \n",
        "                                                  random_state = SEED), parameters, scoring = 'f1')\n",
        "forest_Gini_mean_smote = forest_Gini_mean_smote.fit(X_SMOTE_mean, y_SMOTE_mean)\n",
        "forest_Gini_pred = forest_Gini_mean_smote.predict(X_test_mean)\n",
        "metrics.loc[\"FG3\"] = get_metrics(['Mean', 'yes'], y_test_mean, forest_Gini_pred)\n",
        "FG_metrics.loc[\"FG3\"] = metrics.loc[\"FG3\"]\n",
        "print(\"I parametri ottimali per Random Forest sono %s con score %0.2f\" % \n",
        "      (forest_Gini_mean_smote.best_params_, forest_Gini_mean_smote.best_score_))\n",
        "metrics.loc[\"FG3\"]"
      ],
      "execution_count": null,
      "outputs": []
    },
    {
      "cell_type": "code",
      "metadata": {
        "id": "ERlqbANgt27D",
        "colab_type": "code",
        "colab": {}
      },
      "source": [
        "#dataset drop SMOTE\n",
        "#Gini criterion\n",
        "forest_Gini_drop_smote = GridSearchCV(RandomForestClassifier(n_estimators = 100, criterion = 'gini', \n",
        "                                                  random_state = SEED), parameters, scoring = 'f1')\n",
        "forest_Gini_drop_smote = forest_Gini_drop_smote.fit(X_SMOTE_drop, y_SMOTE_drop)\n",
        "forest_Gini_pred = forest_Gini_drop_smote.predict(X_test_drop)\n",
        "metrics.loc[\"FG4\"] = get_metrics(['Drop', 'yes'], y_test_drop, forest_Gini_pred)\n",
        "FG_metrics.loc[\"FG4\"] = metrics.loc[\"FG4\"]\n",
        "print(\"I parametri ottimali per Random Forest sono %s con score %0.2f\" % \n",
        "      (forest_Gini_drop_smote.best_params_, forest_Gini_drop_smote.best_score_))\n",
        "metrics.loc[\"FG4\"] "
      ],
      "execution_count": null,
      "outputs": []
    },
    {
      "cell_type": "code",
      "metadata": {
        "id": "DeLbteV-SQCy",
        "colab_type": "code",
        "colab": {}
      },
      "source": [
        "FG_metrics.sort_values('F1 Score')"
      ],
      "execution_count": null,
      "outputs": []
    },
    {
      "cell_type": "code",
      "metadata": {
        "id": "_HvpodJ4uJBZ",
        "colab_type": "code",
        "colab": {}
      },
      "source": [
        "fig, ((mean, drop), (smote_mean, smote_drop)) = plt.subplots(nrows = 2, ncols = 2, figsize = (10, 10))\n",
        "\n",
        "plot_confusion_matrix(forest_Gini_mean, X_test_mean, y_test_mean,\n",
        "                      cmap = plt.cm.Blues, values_format = '0.2%', normalize = 'true', \n",
        "                      ax = mean)\n",
        "plot_confusion_matrix(forest_Gini_drop, X_test_drop, y_test_drop,\n",
        "                      cmap = plt.cm.Blues, values_format = '0.2%', normalize = 'true',\n",
        "                      ax = drop)\n",
        "plot_confusion_matrix(forest_Gini_mean_smote, X_test_mean, y_test_mean,\n",
        "                      cmap = plt.cm.Blues, values_format = '0.2%', normalize = 'true',\n",
        "                      ax = smote_mean)\n",
        "plot_confusion_matrix(forest_Gini_drop_smote, X_test_drop, y_test_drop,\n",
        "                      cmap = plt.cm.Blues, values_format = '0.2%', normalize = 'true',\n",
        "                      ax = smote_drop)\n",
        "mean.set_title('FG1: Mean dataset')\n",
        "drop.set_title('FG2: Drop dataset')\n",
        "smote_mean.set_title('FG3: SMOTE Mean')\n",
        "smote_drop.set_title('FG4: SMOTE Drop')"
      ],
      "execution_count": null,
      "outputs": []
    },
    {
      "cell_type": "markdown",
      "metadata": {
        "id": "w33BFf7PPJxk",
        "colab_type": "text"
      },
      "source": [
        "# 5. <a class=\"anchor\" id=\"conclusioni\">Conclusioni</a>\n",
        "Come visto usando tutti gli algoritmi, il fatto che il dataset fosse molto sbilanciato ha un forte impatto sui modelli: molti hanno *accuracy* e *sensitivy* vicinissime o addirittura pari a 1, ma *specificity* vicinissima o pari a 0. Ciò è dovuto al fatto che questi algoritmi tenevano ad assegnare tutti i record alla classe 1, quella maggioritaria, come è chiaro dalle *confusion matrix*.\n",
        "\n",
        "Ordiniamo i modelli usati in base a *F1 score*, metrica più completa delle altre. Emerge subito che l'*oversampling* ha ripagato significativamente: tutti i modelli che superano lo 0.5 di *F1 score* sono stati addestrati sul dataset costruito con l'algoritmo *SMOTE*.\n",
        "\n",
        "Per quanto riguarda la gestione dei valori mancanti, l'approccio basato sulla sostituzione col valore medio ha performato molto meglio dell'idea di rimuovere i record incompleti.\n",
        "\n",
        "Tra gli algoritmi, la *regressione logistica* primeggia su tutte, lavorando bene anche sul dataset in cui sono stati rimossi i record con valori mancanti.\n",
        "Anche *random forest* e *alberi di decisione*, quando applicati al dataset *SMOTE* con approccio \"valore medio\", raggiungono uno score di 0.7."
      ]
    },
    {
      "cell_type": "code",
      "metadata": {
        "id": "Ji0u4WD6PMKW",
        "colab_type": "code",
        "colab": {}
      },
      "source": [
        "metrics.sort_values('F1 Score', ascending = False)"
      ],
      "execution_count": null,
      "outputs": []
    }
  ]
}